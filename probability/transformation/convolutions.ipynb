{
 "cells": [
  {
   "cell_type": "code",
   "execution_count": 45,
   "metadata": {},
   "outputs": [],
   "source": [
    "from sympy import oo\n",
    "import sympy\n",
    "sympy.init_printing()"
   ]
  },
  {
   "cell_type": "code",
   "execution_count": 46,
   "metadata": {},
   "outputs": [],
   "source": [
    "X, Y = sympy.symbols(\"X, Y\", positive=True)\n",
    "f = sympy.Function(\"f\")(X)\n",
    "g = sympy.Function(\"g\")(Y)"
   ]
  },
  {
   "cell_type": "code",
   "execution_count": 47,
   "metadata": {},
   "outputs": [],
   "source": [
    "def convolve(f, g, t, lower_limit=-oo, upper_limit=oo):\n",
    "    x = sympy.Symbol(\"x\", real=True)\n",
    "    return sympy.integrate(f.subs(X, x) * g.subs(Y, t - x), \n",
    "                     (x, lower_limit, upper_limit))"
   ]
  },
  {
   "cell_type": "code",
   "execution_count": 48,
   "metadata": {},
   "outputs": [
    {
     "data": {
      "image/png": "[encoded data removed]",
      "text/latex": [
       "$$\\int_{-\\infty}^{\\infty} f{\\left (x \\right )} g{\\left (X + Y - x \\right )}\\, dx$$"
      ],
      "text/plain": [
       "∞                      \n",
       "⌠                      \n",
       "⎮  f(x)⋅g(X + Y - x) dx\n",
       "⌡                      \n",
       "-∞                     "
      ]
     },
     "execution_count": 48,
     "metadata": {},
     "output_type": "execute_result"
    }
   ],
   "source": [
    "convolve(f, g, T)"
   ]
  },
  {
   "cell_type": "code",
   "execution_count": null,
   "metadata": {},
   "outputs": [],
   "source": []
  }
 ],
 "metadata": {
  "kernelspec": {
   "display_name": "Python 3",
   "language": "python",
   "name": "python3"
  },
  "language_info": {
   "codemirror_mode": {
    "name": "ipython",
    "version": 3
   },
   "file_extension": ".py",
   "mimetype": "text/x-python",
   "name": "python",
   "nbconvert_exporter": "python",
   "pygments_lexer": "ipython3",
   "version": "3.6.8"
  }
 },
 "nbformat": 4,
 "nbformat_minor": 2
}
