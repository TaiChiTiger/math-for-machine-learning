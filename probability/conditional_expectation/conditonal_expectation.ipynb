{
 "cells": [
  {
   "cell_type": "code",
   "execution_count": 11,
   "metadata": {},
   "outputs": [],
   "source": [
    "import sympy\n",
    "sympy.init_printing()"
   ]
  },
  {
   "cell_type": "code",
   "execution_count": 12,
   "metadata": {},
   "outputs": [],
   "source": [
    "X10, X20, X50 = sympy.symbols('X10, X20, X50', real=True)"
   ]
  },
  {
   "cell_type": "code",
   "execution_count": 13,
   "metadata": {},
   "outputs": [],
   "source": [
    "xi = 10*X10 + 20*X20 + 50*X50\n",
    "eta = X10*X20*(1-X50) +  X10*(1-X20)*X50 + (1-X10)*X20*X50"
   ]
  },
  {
   "cell_type": "code",
   "execution_count": 17,
   "metadata": {},
   "outputs": [
    {
     "data": {
      "image/png": "[encoded data removed]",
      "text/latex": [
       "$$160$$"
      ],
      "text/plain": [
       "160"
      ]
     },
     "execution_count": 17,
     "metadata": {},
     "output_type": "execute_result"
    }
   ],
   "source": [
    "num = sympy.summation(xi*eta,(X10,0,1),(X20,0,1),(X50,0,1))\n",
    "num"
   ]
  },
  {
   "cell_type": "code",
   "execution_count": 19,
   "metadata": {},
   "outputs": [
    {
     "data": {
      "image/png": "[encoded data removed]",
      "text/latex": [
       "$$3$$"
      ],
      "text/plain": [
       "3"
      ]
     },
     "execution_count": 19,
     "metadata": {},
     "output_type": "execute_result"
    }
   ],
   "source": [
    "den = sympy.summation(eta*eta,(X10,0,1),(X20,0,1),(X50,0,1))\n",
    "den"
   ]
  },
  {
   "cell_type": "code",
   "execution_count": 21,
   "metadata": {},
   "outputs": [
    {
     "data": {
      "image/png": "[encoded data removed]",
      "text/latex": [
       "$$\\frac{160}{3}$$"
      ],
      "text/plain": [
       "160/3"
      ]
     },
     "execution_count": 21,
     "metadata": {},
     "output_type": "execute_result"
    }
   ],
   "source": [
    "alpha = num/den\n",
    "alpha"
   ]
  },
  {
   "cell_type": "markdown",
   "metadata": {},
   "source": [
    "### Cross-checking"
   ]
  },
  {
   "cell_type": "markdown",
   "metadata": {},
   "source": [
    "#### Random Sampling"
   ]
  },
  {
   "cell_type": "code",
   "execution_count": 32,
   "metadata": {},
   "outputs": [],
   "source": [
    "import pandas as pd\n",
    "import numpy as np\n",
    "\n",
    "np.random.seed(123)\n",
    "d = pd.DataFrame(columns=['X10','X20','X50'])\n",
    "d.X10 = np.random.randint(0,2,1000)\n",
    "d.X20 = np.random.randint(0,2,1000)\n",
    "d.X50 = np.random.randint(0,2,1000)"
   ]
  },
  {
   "cell_type": "code",
   "execution_count": 33,
   "metadata": {},
   "outputs": [
    {
     "data": {
      "text/html": [
       "<div>\n",
       "<style scoped>\n",
       "    .dataframe tbody tr th:only-of-type {\n",
       "        vertical-align: middle;\n",
       "    }\n",
       "\n",
       "    .dataframe tbody tr th {\n",
       "        vertical-align: top;\n",
       "    }\n",
       "\n",
       "    .dataframe thead th {\n",
       "        text-align: right;\n",
       "    }\n",
       "</style>\n",
       "<table border=\"1\" class=\"dataframe\">\n",
       "  <thead>\n",
       "    <tr style=\"text-align: right;\">\n",
       "      <th></th>\n",
       "      <th>X10</th>\n",
       "      <th>X20</th>\n",
       "      <th>X50</th>\n",
       "    </tr>\n",
       "  </thead>\n",
       "  <tbody>\n",
       "    <tr>\n",
       "      <th>0</th>\n",
       "      <td>0</td>\n",
       "      <td>0</td>\n",
       "      <td>1</td>\n",
       "    </tr>\n",
       "    <tr>\n",
       "      <th>1</th>\n",
       "      <td>1</td>\n",
       "      <td>1</td>\n",
       "      <td>1</td>\n",
       "    </tr>\n",
       "    <tr>\n",
       "      <th>2</th>\n",
       "      <td>0</td>\n",
       "      <td>1</td>\n",
       "      <td>1</td>\n",
       "    </tr>\n",
       "    <tr>\n",
       "      <th>3</th>\n",
       "      <td>0</td>\n",
       "      <td>1</td>\n",
       "      <td>1</td>\n",
       "    </tr>\n",
       "    <tr>\n",
       "      <th>4</th>\n",
       "      <td>0</td>\n",
       "      <td>1</td>\n",
       "      <td>1</td>\n",
       "    </tr>\n",
       "  </tbody>\n",
       "</table>\n",
       "</div>"
      ],
      "text/plain": [
       "   X10  X20  X50\n",
       "0    0    0    1\n",
       "1    1    1    1\n",
       "2    0    1    1\n",
       "3    0    1    1\n",
       "4    0    1    1"
      ]
     },
     "execution_count": 33,
     "metadata": {},
     "output_type": "execute_result"
    }
   ],
   "source": [
    "d.head()"
   ]
  },
  {
   "cell_type": "code",
   "execution_count": 34,
   "metadata": {},
   "outputs": [],
   "source": [
    "grp = d.groupby(d.eval('X10+X20+X50'))"
   ]
  },
  {
   "cell_type": "code",
   "execution_count": 36,
   "metadata": {},
   "outputs": [],
   "source": [
    "conditon_two = grp.get_group(2)"
   ]
  },
  {
   "cell_type": "code",
   "execution_count": 38,
   "metadata": {},
   "outputs": [
    {
     "data": {
      "image/png": "[encoded data removed]",
      "text/latex": [
       "$$52.086513994910945$$"
      ],
      "text/plain": [
       "52.086513994910945"
      ]
     },
     "execution_count": 38,
     "metadata": {},
     "output_type": "execute_result"
    }
   ],
   "source": [
    "conditon_two.eval('10*X10+20*X20+50*X50').mean()"
   ]
  },
  {
   "cell_type": "markdown",
   "metadata": {},
   "source": [
    "#### Consider all possibilities"
   ]
  },
  {
   "cell_type": "code",
   "execution_count": 39,
   "metadata": {},
   "outputs": [],
   "source": [
    "import itertools as it"
   ]
  },
  {
   "cell_type": "code",
   "execution_count": 42,
   "metadata": {},
   "outputs": [
    {
     "data": {
      "image/png": "[encoded data removed]",
      "text/latex": [
       "$$\\left [ \\left ( 0, \\quad 0, \\quad 0\\right ), \\quad \\left ( 0, \\quad 0, \\quad 1\\right ), \\quad \\left ( 0, \\quad 1, \\quad 0\\right ), \\quad \\left ( 0, \\quad 1, \\quad 1\\right ), \\quad \\left ( 1, \\quad 0, \\quad 0\\right ), \\quad \\left ( 1, \\quad 0, \\quad 1\\right ), \\quad \\left ( 1, \\quad 1, \\quad 0\\right ), \\quad \\left ( 1, \\quad 1, \\quad 1\\right )\\right ]$$"
      ],
      "text/plain": [
       "[(0, 0, 0), (0, 0, 1), (0, 1, 0), (0, 1, 1), (1, 0, 0), (1, 0, 1), (1, 1, 0), \n",
       "(1, 1, 1)]"
      ]
     },
     "execution_count": 42,
     "metadata": {},
     "output_type": "execute_result"
    }
   ],
   "source": [
    "# sample space\n",
    "sample_space = list(it.product((0,1), (0,1), (0,1)))\n",
    "sample_space"
   ]
  },
  {
   "cell_type": "code",
   "execution_count": 52,
   "metadata": {},
   "outputs": [
    {
     "data": {
      "image/png": "[encoded data removed]",
      "text/latex": [
       "$$\\left [ \\left ( 0, \\quad 1, \\quad 1\\right ), \\quad \\left ( 1, \\quad 0, \\quad 1\\right ), \\quad \\left ( 1, \\quad 1, \\quad 0\\right )\\right ]$$"
      ],
      "text/plain": [
       "[(0, 1, 1), (1, 0, 1), (1, 1, 0)]"
      ]
     },
     "execution_count": 52,
     "metadata": {},
     "output_type": "execute_result"
    }
   ],
   "source": [
    "events_two = list(filter(lambda i: sum(i)==2, sample_space))\n",
    "events_two"
   ]
  },
  {
   "cell_type": "code",
   "execution_count": 57,
   "metadata": {},
   "outputs": [
    {
     "data": {
      "image/png": "[encoded data removed]",
      "text/latex": [
       "$$\\left [ 70, \\quad 60, \\quad 30\\right ]$$"
      ],
      "text/plain": [
       "[70, 60, 30]"
      ]
     },
     "execution_count": 57,
     "metadata": {},
     "output_type": "execute_result"
    }
   ],
   "source": [
    "money = list(map(lambda k:10*k[0] + 20*k[1] + 50*k[2], filter(lambda i: sum(i)==2, sample_space)))\n",
    "money"
   ]
  },
  {
   "cell_type": "code",
   "execution_count": 62,
   "metadata": {},
   "outputs": [
    {
     "data": {
      "image/png": "[encoded data removed]",
      "text/latex": [
       "$$53.333333333333336$$"
      ],
      "text/plain": [
       "53.333333333333336"
      ]
     },
     "execution_count": 62,
     "metadata": {},
     "output_type": "execute_result"
    }
   ],
   "source": [
    "sum(money) / len(money)"
   ]
  },
  {
   "cell_type": "code",
   "execution_count": 63,
   "metadata": {},
   "outputs": [],
   "source": [
    "from sympy.abc import a, b"
   ]
  },
  {
   "cell_type": "code",
   "execution_count": 65,
   "metadata": {},
   "outputs": [
    {
     "data": {
      "image/png": "[encoded data removed]",
      "text/latex": [
       "$$30 X_{10} X_{20} + 10 X_{10} \\left(- X_{20} + 1\\right) + 20 X_{20} \\left(- X_{10} + 1\\right)$$"
      ],
      "text/plain": [
       "30⋅X₁₀⋅X₂₀ + 10⋅X₁₀⋅(-X₂₀ + 1) + 20⋅X₂₀⋅(-X₁₀ + 1)"
      ]
     },
     "execution_count": 65,
     "metadata": {},
     "output_type": "execute_result"
    }
   ],
   "source": [
    "eta = X10*X20*30 + X10*(1-X20)*10 + (1-X10)*X20*20\n",
    "eta"
   ]
  },
  {
   "cell_type": "code",
   "execution_count": 66,
   "metadata": {},
   "outputs": [
    {
     "data": {
      "image/png": "[encoded data removed]",
      "text/latex": [
       "$$a \\left(30 X_{10} X_{20} + 10 X_{10} \\left(- X_{20} + 1\\right) + 20 X_{20} \\left(- X_{10} + 1\\right)\\right) + b$$"
      ],
      "text/plain": [
       "a⋅(30⋅X₁₀⋅X₂₀ + 10⋅X₁₀⋅(-X₂₀ + 1) + 20⋅X₂₀⋅(-X₁₀ + 1)) + b"
      ]
     },
     "execution_count": 66,
     "metadata": {},
     "output_type": "execute_result"
    }
   ],
   "source": [
    "h = a*eta + b\n",
    "h"
   ]
  },
  {
   "cell_type": "code",
   "execution_count": 67,
   "metadata": {},
   "outputs": [
    {
     "data": {
      "image/png": "[encoded data removed]",
      "text/latex": [
       "$$10 X_{10} + 20 X_{20} + 50 X_{50}$$"
      ],
      "text/plain": [
       "10⋅X₁₀ + 20⋅X₂₀ + 50⋅X₅₀"
      ]
     },
     "execution_count": 67,
     "metadata": {},
     "output_type": "execute_result"
    }
   ],
   "source": [
    "xi"
   ]
  },
  {
   "cell_type": "code",
   "execution_count": 70,
   "metadata": {},
   "outputs": [
    {
     "data": {
      "image/png": "[encoded data removed]",
      "text/latex": [
       "$$\\frac{b^{2}}{8} + \\frac{1}{8} \\left(- b + 50\\right)^{2} + \\frac{1}{8} \\left(- 30 a - b + 30\\right)^{2} + \\frac{1}{8} \\left(- 30 a - b + 80\\right)^{2} + \\frac{1}{8} \\left(- 20 a - b + 20\\right)^{2} + \\frac{1}{8} \\left(- 20 a - b + 70\\right)^{2} + \\frac{1}{8} \\left(- 10 a - b + 10\\right)^{2} + \\frac{1}{8} \\left(- 10 a - b + 60\\right)^{2}$$"
      ],
      "text/plain": [
       " 2            2                   2                   2                   2   \n",
       "b    (-b + 50)    (-30⋅a - b + 30)    (-30⋅a - b + 80)    (-20⋅a - b + 20)    \n",
       "── + ────────── + ───────────────── + ───────────────── + ───────────────── + \n",
       "8        8                8                   8                   8           \n",
       "\n",
       "                2                   2                   2\n",
       "(-20⋅a - b + 70)    (-10⋅a - b + 10)    (-10⋅a - b + 60) \n",
       "───────────────── + ───────────────── + ─────────────────\n",
       "        8                   8                   8        "
      ]
     },
     "execution_count": 70,
     "metadata": {},
     "output_type": "execute_result"
    }
   ],
   "source": [
    "MSE = sympy.summation((xi-h)**2*sympy.Rational(1,8), (X10,0,1), (X20,0,1), (X50,0,1))\n",
    "MSE"
   ]
  },
  {
   "cell_type": "code",
   "execution_count": 72,
   "metadata": {},
   "outputs": [
    {
     "data": {
      "image/png": "[encoded data removed]",
      "text/latex": [
       "$$\\left \\{ a : 1, \\quad b : 25\\right \\}$$"
      ],
      "text/plain": [
       "{a: 1, b: 25}"
      ]
     },
     "execution_count": 72,
     "metadata": {},
     "output_type": "execute_result"
    }
   ],
   "source": [
    "sol = sympy.solve([sympy.diff(MSE,a), sympy.diff(MSE,b)], (a,b))\n",
    "sol"
   ]
  },
  {
   "cell_type": "markdown",
   "metadata": {},
   "source": [
    "$E(\\xi|\\eta)=25+\\eta$"
   ]
  },
  {
   "cell_type": "markdown",
   "metadata": {},
   "source": [
    "#### Use orthogonal inner products"
   ]
  },
  {
   "cell_type": "code",
   "execution_count": 74,
   "metadata": {},
   "outputs": [
    {
     "data": {
      "image/png": "[encoded data removed]",
      "text/latex": [
       "$$- 100 X_{10}^{2} a + 100 X_{10}^{2} - 400 X_{10} X_{20} a + 400 X_{10} X_{20} + 500 X_{10} X_{50} - 10 X_{10} b - 400 X_{20}^{2} a + 400 X_{20}^{2} + 1000 X_{20} X_{50} - 20 X_{20} b$$"
      ],
      "text/plain": [
       "         2            2                                                       \n",
       "- 100⋅X₁₀ ⋅a + 100⋅X₁₀  - 400⋅X₁₀⋅X₂₀⋅a + 400⋅X₁₀⋅X₂₀ + 500⋅X₁₀⋅X₅₀ - 10⋅X₁₀⋅b\n",
       "\n",
       "          2            2                          \n",
       " - 400⋅X₂₀ ⋅a + 400⋅X₂₀  + 1000⋅X₂₀⋅X₅₀ - 20⋅X₂₀⋅b"
      ]
     },
     "execution_count": 74,
     "metadata": {},
     "output_type": "execute_result"
    }
   ],
   "source": [
    "expr = sympy.expand((xi-h)*eta)\n",
    "expr"
   ]
  },
  {
   "cell_type": "code",
   "execution_count": 77,
   "metadata": {},
   "outputs": [
    {
     "data": {
      "image/png": "[encoded data removed]",
      "text/latex": [
       "$$- 700.0 a - 30.0 b + 1450.0$$"
      ],
      "text/plain": [
       "-700.0⋅a - 30.0⋅b + 1450.0"
      ]
     },
     "execution_count": 77,
     "metadata": {},
     "output_type": "execute_result"
    }
   ],
   "source": [
    "expr.xreplace({X10**2:0.5, X20**2:0.5,X10:0.5,X20:0.5,X50:0.5}) -350.0*a - 15.0*b + 725.0"
   ]
  },
  {
   "cell_type": "code",
   "execution_count": null,
   "metadata": {},
   "outputs": [],
   "source": []
  }
 ],
 "metadata": {
  "kernelspec": {
   "display_name": "Python 3",
   "language": "python",
   "name": "python3"
  },
  "language_info": {
   "codemirror_mode": {
    "name": "ipython",
    "version": 3
   },
   "file_extension": ".py",
   "mimetype": "text/x-python",
   "name": "python",
   "nbconvert_exporter": "python",
   "pygments_lexer": "ipython3",
   "version": "3.6.8"
  }
 },
 "nbformat": 4,
 "nbformat_minor": 2
}
