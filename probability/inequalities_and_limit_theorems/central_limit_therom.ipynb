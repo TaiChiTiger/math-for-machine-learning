{
 "cells": [
  {
   "cell_type": "code",
   "execution_count": 1,
   "metadata": {},
   "outputs": [],
   "source": [
    "import matplotlib.pyplot as plt\n",
    "import seaborn as sns\n",
    "import numpy as np\n",
    "import pandas as pd"
   ]
  },
  {
   "cell_type": "code",
   "execution_count": 2,
   "metadata": {},
   "outputs": [
    {
     "data": {
      "text/html": [
       "<div>\n",
       "<style scoped>\n",
       "    .dataframe tbody tr th:only-of-type {\n",
       "        vertical-align: middle;\n",
       "    }\n",
       "\n",
       "    .dataframe tbody tr th {\n",
       "        vertical-align: top;\n",
       "    }\n",
       "\n",
       "    .dataframe thead th {\n",
       "        text-align: right;\n",
       "    }\n",
       "</style>\n",
       "<table border=\"1\" class=\"dataframe\">\n",
       "  <thead>\n",
       "    <tr style=\"text-align: right;\">\n",
       "      <th></th>\n",
       "      <th>sales</th>\n",
       "    </tr>\n",
       "  </thead>\n",
       "  <tbody>\n",
       "    <tr>\n",
       "      <th>0</th>\n",
       "      <td>365</td>\n",
       "    </tr>\n",
       "    <tr>\n",
       "      <th>1</th>\n",
       "      <td>382</td>\n",
       "    </tr>\n",
       "    <tr>\n",
       "      <th>2</th>\n",
       "      <td>322</td>\n",
       "    </tr>\n",
       "    <tr>\n",
       "      <th>3</th>\n",
       "      <td>476</td>\n",
       "    </tr>\n",
       "    <tr>\n",
       "      <th>4</th>\n",
       "      <td>98</td>\n",
       "    </tr>\n",
       "  </tbody>\n",
       "</table>\n",
       "</div>"
      ],
      "text/plain": [
       "   sales\n",
       "0    365\n",
       "1    382\n",
       "2    322\n",
       "3    476\n",
       "4     98"
      ]
     },
     "execution_count": 2,
     "metadata": {},
     "output_type": "execute_result"
    }
   ],
   "source": [
    "np.random.seed(123)\n",
    "pop_size = 1000\n",
    "pop = np.random.randint(0, 500, pop_size)\n",
    "population = pd.DataFrame({'sales': pop})\n",
    "population.head()"
   ]
  },
  {
   "cell_type": "code",
   "execution_count": 3,
   "metadata": {},
   "outputs": [
    {
     "data": {
      "text/html": [
       "<div>\n",
       "<style scoped>\n",
       "    .dataframe tbody tr th:only-of-type {\n",
       "        vertical-align: middle;\n",
       "    }\n",
       "\n",
       "    .dataframe tbody tr th {\n",
       "        vertical-align: top;\n",
       "    }\n",
       "\n",
       "    .dataframe thead th {\n",
       "        text-align: right;\n",
       "    }\n",
       "</style>\n",
       "<table border=\"1\" class=\"dataframe\">\n",
       "  <thead>\n",
       "    <tr style=\"text-align: right;\">\n",
       "      <th></th>\n",
       "      <th>sales</th>\n",
       "    </tr>\n",
       "  </thead>\n",
       "  <tbody>\n",
       "    <tr>\n",
       "      <th>count</th>\n",
       "      <td>1000.000000</td>\n",
       "    </tr>\n",
       "    <tr>\n",
       "      <th>mean</th>\n",
       "      <td>253.241000</td>\n",
       "    </tr>\n",
       "    <tr>\n",
       "      <th>std</th>\n",
       "      <td>146.431435</td>\n",
       "    </tr>\n",
       "    <tr>\n",
       "      <th>min</th>\n",
       "      <td>0.000000</td>\n",
       "    </tr>\n",
       "    <tr>\n",
       "      <th>25%</th>\n",
       "      <td>124.750000</td>\n",
       "    </tr>\n",
       "    <tr>\n",
       "      <th>50%</th>\n",
       "      <td>253.500000</td>\n",
       "    </tr>\n",
       "    <tr>\n",
       "      <th>75%</th>\n",
       "      <td>378.000000</td>\n",
       "    </tr>\n",
       "    <tr>\n",
       "      <th>max</th>\n",
       "      <td>498.000000</td>\n",
       "    </tr>\n",
       "  </tbody>\n",
       "</table>\n",
       "</div>"
      ],
      "text/plain": [
       "             sales\n",
       "count  1000.000000\n",
       "mean    253.241000\n",
       "std     146.431435\n",
       "min       0.000000\n",
       "25%     124.750000\n",
       "50%     253.500000\n",
       "75%     378.000000\n",
       "max     498.000000"
      ]
     },
     "execution_count": 3,
     "metadata": {},
     "output_type": "execute_result"
    }
   ],
   "source": [
    "population.describe()"
   ]
  },
  {
   "cell_type": "code",
   "execution_count": 4,
   "metadata": {},
   "outputs": [
    {
     "name": "stdout",
     "output_type": "stream",
     "text": [
      "The population mean: 253.241, the population standard deviation: 146.358\n"
     ]
    }
   ],
   "source": [
    "pop_mean = pop.mean()\n",
    "pop_sd = pop.std()\n",
    "print(\"The population mean: {:3.3f}, the population standard deviation: {:3.3f}\".format(pop_mean, pop_sd))"
   ]
  },
  {
   "cell_type": "markdown",
   "metadata": {},
   "source": [
    "# Sampling"
   ]
  },
  {
   "cell_type": "code",
   "execution_count": 5,
   "metadata": {},
   "outputs": [],
   "source": [
    "# two parameters dertermies the sampling mechanism: 1. sample_size: the number of sampling; 2. sampling_num: the size of each sample\n",
    "def sampling_design(sample_size=100, sampling_num=1000):\n",
    "    samples_means = np.zeros(sampling_num)\n",
    "    for i in range(sampling_num):\n",
    "        per_sample = np.random.choice(pop, sample_size, replace=True)\n",
    "        samples_means[i] = per_sample.mean()\n",
    "    return samples_means\n",
    "\n",
    "sample_size = 200\n",
    "samples_means = sampling_design(sample_size, 500)"
   ]
  },
  {
   "cell_type": "markdown",
   "metadata": {},
   "source": [
    "## Sampling Distribution"
   ]
  },
  {
   "cell_type": "code",
   "execution_count": 6,
   "metadata": {},
   "outputs": [
    {
     "data": {
      "text/plain": [
       "array([260.485, 241.88 , 257.005, 255.955, 240.08 , 263.725, 259.165,\n",
       "       249.645, 239.135, 242.41 , 254.865, 268.92 , 261.915, 265.44 ,\n",
       "       255.73 , 248.98 , 260.205, 246.02 , 263.42 , 248.825, 260.805,\n",
       "       255.845, 230.23 , 255.13 , 250.995, 276.385, 264.905, 257.53 ,\n",
       "       278.8  , 248.45 , 246.755, 243.135, 254.02 , 274.065, 259.37 ,\n",
       "       259.205, 277.17 , 232.765, 253.865, 259.3  , 234.025, 256.025,\n",
       "       246.195, 260.215, 262.895, 254.91 , 262.61 , 261.965, 234.335,\n",
       "       256.03 , 260.18 , 266.33 , 248.75 , 246.005, 254.265, 254.85 ,\n",
       "       263.795, 234.13 , 230.485, 241.39 , 245.405, 238.64 , 253.92 ,\n",
       "       259.31 , 233.46 , 241.575, 252.845, 234.19 , 260.22 , 253.695,\n",
       "       262.62 , 243.175, 243.09 , 254.75 , 252.505, 239.615, 254.315,\n",
       "       228.89 , 254.04 , 266.99 , 261.715, 266.075, 254.89 , 271.395,\n",
       "       253.05 , 261.455, 247.915, 248.335, 244.675, 251.455, 262.035,\n",
       "       279.175, 245.5  , 258.445, 256.465, 257.34 , 268.655, 241.1  ,\n",
       "       242.795, 256.545])"
      ]
     },
     "execution_count": 6,
     "metadata": {},
     "output_type": "execute_result"
    }
   ],
   "source": [
    "samples_means[:100]"
   ]
  },
  {
   "cell_type": "code",
   "execution_count": 17,
   "metadata": {},
   "outputs": [
    {
     "data": {
      "image/png": "[encoded data removed]",
      "text/plain": [
       "<Figure size 576x432 with 1 Axes>"
      ]
     },
     "metadata": {
      "needs_background": "light"
     },
     "output_type": "display_data"
    }
   ],
   "source": [
    "# the frequecy distribution of sample means\n",
    "plt.figure(figsize=(8, 6))\n",
    "plt.hist(samples_means)\n",
    "plt.xlabel(\"sales\", fontsize=14)\n",
    "plt.ylabel(\"frequency\", fontsize=14)\n",
    "plt.show()"
   ]
  },
  {
   "cell_type": "code",
   "execution_count": 18,
   "metadata": {},
   "outputs": [
    {
     "data": {
      "image/png": "[encoded data removed]",
      "text/plain": [
       "<Figure size 576x432 with 1 Axes>"
      ]
     },
     "metadata": {
      "needs_background": "light"
     },
     "output_type": "display_data"
    }
   ],
   "source": [
    "plt.figure(figsize=(8, 6))\n",
    "sns.kdeplot(samples_means)\n",
    "plt.xlabel(\"sales\", fontsize=14)\n",
    "plt.ylabel(\"density\", fontsize=14)\n",
    "plt.show()"
   ]
  },
  {
   "cell_type": "code",
   "execution_count": 19,
   "metadata": {},
   "outputs": [
    {
     "name": "stdout",
     "output_type": "stream",
     "text": [
      "The mean of sampling distribution: 252.64476000000002, the standard deviation of sampling distribution: 11.067880444890973\n"
     ]
    }
   ],
   "source": [
    "all_samples_mean = samples_means.mean()\n",
    "all_samples_sd = samples_means.std()\n",
    "\n",
    "print(\"The mean of sampling distribution: {}, the standard deviation of sampling distribution: {}\".format(all_samples_mean, all_samples_sd))"
   ]
  },
  {
   "cell_type": "markdown",
   "metadata": {},
   "source": [
    "# Accessing the fit"
   ]
  },
  {
   "cell_type": "markdown",
   "metadata": {},
   "source": [
    "### Estimating the Mean"
   ]
  },
  {
   "cell_type": "code",
   "execution_count": 20,
   "metadata": {},
   "outputs": [
    {
     "data": {
      "text/plain": [
       "252.64476000000002"
      ]
     },
     "execution_count": 20,
     "metadata": {},
     "output_type": "execute_result"
    }
   ],
   "source": [
    "pop_mean_eval = all_samples_mean\n",
    "#pop_sd_eval = all_samples_sd * np.sqrt(sample_size)\n",
    "pop_mean_eval"
   ]
  },
  {
   "cell_type": "markdown",
   "metadata": {},
   "source": [
    "### Estimating the Standard Deviation"
   ]
  },
  {
   "cell_type": "code",
   "execution_count": 21,
   "metadata": {},
   "outputs": [
    {
     "data": {
      "text/plain": [
       "156.52346631888778"
      ]
     },
     "execution_count": 21,
     "metadata": {},
     "output_type": "execute_result"
    }
   ],
   "source": [
    "pop_sd_eval = all_samples_sd * np.sqrt(sample_size)\n",
    "pop_sd_eval"
   ]
  },
  {
   "cell_type": "code",
   "execution_count": 22,
   "metadata": {},
   "outputs": [
    {
     "data": {
      "text/plain": [
       "11.067880444890973"
      ]
     },
     "execution_count": 22,
     "metadata": {},
     "output_type": "execute_result"
    }
   ],
   "source": [
    "se_approx = all_samples_sd\n",
    "se_approx"
   ]
  },
  {
   "cell_type": "markdown",
   "metadata": {},
   "source": [
    "### Confidence Intervals"
   ]
  },
  {
   "cell_type": "markdown",
   "metadata": {},
   "source": [
    "#### 95% confidence interval"
   ]
  },
  {
   "cell_type": "code",
   "execution_count": 23,
   "metadata": {},
   "outputs": [
    {
     "name": "stdout",
     "output_type": "stream",
     "text": [
      "95% Confidence Intervals: [230.9517143280137, 274.3378056719863]\n"
     ]
    }
   ],
   "source": [
    "confi_inter_lower95 = all_samples_mean - 1.96*se_approx\n",
    "confi_inter_upper95 = all_samples_mean + 1.96*se_approx\n",
    "print(\"95% Confidence Intervals: {}\".format([confi_inter_lower95, confi_inter_upper95]))"
   ]
  },
  {
   "cell_type": "code",
   "execution_count": 24,
   "metadata": {},
   "outputs": [
    {
     "data": {
      "image/png": "[encoded data removed]",
      "text/plain": [
       "<Figure size 576x432 with 1 Axes>"
      ]
     },
     "metadata": {
      "needs_background": "light"
     },
     "output_type": "display_data"
    }
   ],
   "source": [
    "plt.figure(figsize=(8, 6))\n",
    "sns.kdeplot(samples_means, label='The Density')\n",
    "plt.axvline(all_samples_mean, ymax=1, color='r', label='Estimating Mean')\n",
    "plt.fill_betweenx([0, 0.03], confi_inter_lower95, confi_inter_upper95, color='r', alpha=0.3, label='95% Confidence Intervals')\n",
    "\n",
    "plt.xlabel(\"sales\", fontsize=14)\n",
    "plt.ylabel(\"density\", fontsize=14)\n",
    "plt.legend(loc='best')\n",
    "plt.show()"
   ]
  },
  {
   "cell_type": "markdown",
   "metadata": {},
   "source": [
    "#### 99% confidence interval"
   ]
  },
  {
   "cell_type": "code",
   "execution_count": 27,
   "metadata": {},
   "outputs": [
    {
     "name": "stdout",
     "output_type": "stream",
     "text": [
      "98% Confidence Intervals: [224.0896284521813, 281.1998915478187]\n"
     ]
    }
   ],
   "source": [
    "confi_inter_lower98 = all_samples_mean - 2.58*se_approx\n",
    "confi_inter_upper98 = all_samples_mean + 2.58*se_approx\n",
    "print(\"98% Confidence Intervals: {}\".format([confi_inter_lower98, confi_inter_upper98]))"
   ]
  },
  {
   "cell_type": "code",
   "execution_count": 30,
   "metadata": {},
   "outputs": [
    {
     "data": {
      "image/png": "[encoded data removed]",
      "text/plain": [
       "<Figure size 576x432 with 1 Axes>"
      ]
     },
     "metadata": {
      "needs_background": "light"
     },
     "output_type": "display_data"
    }
   ],
   "source": [
    "plt.figure(figsize=(8, 6))\n",
    "sns.kdeplot(samples_means, label='The Density')\n",
    "plt.axvline(all_samples_mean, ymax=1, color='r', label='Estimating Mean')\n",
    "plt.fill_betweenx([0, 0.03], confi_inter_lower98, confi_inter_upper98, \n",
    "                  color='r', alpha=0.3, label='98% Confidence Intervals')\n",
    "\n",
    "plt.xlabel(\"sales\", fontsize=14)\n",
    "plt.ylabel(\"density\", fontsize=14)\n",
    "plt.legend(loc='best')\n",
    "plt.show()"
   ]
  },
  {
   "cell_type": "code",
   "execution_count": 31,
   "metadata": {},
   "outputs": [
    {
     "data": {
      "text/plain": [
       "array([32.38937103, 20.63420443, 16.41702335, 11.88595812, 10.43703287,\n",
       "        8.41787541,  7.26633459,  6.63437007,  6.01842857,  5.72798374,\n",
       "        5.01455733,  4.8871582 ])"
      ]
     },
     "execution_count": 31,
     "metadata": {},
     "output_type": "execute_result"
    }
   ],
   "source": [
    "sample_sizes = [20, 50, 80, 150, 200, 300, 400, 500, 600, 700, 800, 900]\n",
    "samples_m = np.zeros(len(sample_sizes))\n",
    "samples_sd = np.zeros(len(sample_sizes))\n",
    "i = 0\n",
    "for s in sample_sizes:\n",
    "    samples = sampling_design(s, 1000)\n",
    "    samples_m[i] = samples.mean()\n",
    "    samples_sd[i] = samples.std()\n",
    "    i += 1\n",
    "samples_sd"
   ]
  }
 ],
 "metadata": {
  "kernelspec": {
   "display_name": "Python 3",
   "language": "python",
   "name": "python3"
  },
  "language_info": {
   "codemirror_mode": {
    "name": "ipython",
    "version": 3
   },
   "file_extension": ".py",
   "mimetype": "text/x-python",
   "name": "python",
   "nbconvert_exporter": "python",
   "pygments_lexer": "ipython3",
   "version": "3.6.8"
  }
 },
 "nbformat": 4,
 "nbformat_minor": 2
}
