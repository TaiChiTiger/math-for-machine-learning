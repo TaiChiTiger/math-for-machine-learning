{
 "cells": [
  {
   "cell_type": "code",
   "execution_count": 12,
   "metadata": {},
   "outputs": [],
   "source": [
    "import numpy as np\n",
    "from scipy.stats import norm\n",
    "import matplotlib.pyplot as plt"
   ]
  },
  {
   "cell_type": "code",
   "execution_count": 13,
   "metadata": {},
   "outputs": [
    {
     "name": "stdout",
     "output_type": "stream",
     "text": [
      "num0, x0.5\n",
      "num1, x0.4539787163743882\n",
      "num2, x0.5229191660873497\n",
      "num3, x0.5474415157161183\n",
      "num4, x0.6085316265589474\n",
      "num5, x0.564720162304116\n",
      "num6, x0.6780381427782733\n",
      "num7, x0.617093669970351\n",
      "num8, x0.6326001339125373\n",
      "num9, x0.685605438947976\n",
      "num10, x0.7207432767285481\n",
      "num11, x0.6150948381084076\n",
      "num12, x0.5191910181642564\n",
      "num13, x0.46175367542646334\n",
      "num14, x0.36546799068348557\n",
      "num15, x0.41591033779406905\n",
      "num16, x0.36157306643163745\n",
      "num17, x0.35026169306085386\n",
      "num18, x0.2805421945211319\n",
      "num19, x0.2091644763303032\n",
      "num20, x0.28601399826587015\n",
      "num21, x0.1380128164528446\n",
      "num22, x0.12265515678801288\n",
      "num23, x0.2799354967744113\n",
      "num24, x0.31121927972266716\n",
      "num25, x0.32543785401743314\n",
      "num26, x0.32756971899546455\n",
      "num27, x0.35455273980620217\n",
      "num28, x0.3519422348382169\n",
      "num29, x0.2949663836541577\n",
      "num30, x0.2698275588111824\n",
      "num31, x0.2140717330970813\n",
      "num32, x0.32194705970461335\n",
      "num33, x0.22633884430839257\n",
      "num34, x0.2533894613322114\n",
      "num35, x0.1993198804717578\n",
      "num36, x0.24316852305862435\n",
      "num37, x0.2924049272955873\n",
      "num38, x0.29506468869920993\n",
      "num39, x0.3790845743925202\n",
      "num40, x0.4374743436434687\n",
      "num41, x0.47054889433001473\n",
      "num42, x0.4401369727520738\n",
      "num43, x0.4777553591612154\n",
      "num44, x0.493523902555904\n",
      "num45, x0.4979351247379368\n",
      "num46, x0.5401099003990264\n",
      "num47, x0.5396867521002584\n",
      "num48, x0.5393448956446375\n",
      "num49, x0.5210666947094704\n",
      "num50, x0.5614148343359635\n",
      "num51, x0.568818586076196\n",
      "num52, x0.5561586164382687\n",
      "num53, x0.616280674939335\n",
      "num54, x0.6665722281333698\n",
      "num55, x0.6517508581513617\n",
      "num56, x0.6050512189309519\n",
      "num57, x0.5625338791754768\n",
      "num58, x0.4988559374345509\n",
      "num59, x0.4778748523268242\n",
      "num60, x0.45208534790407884\n",
      "num61, x0.4488434270362845\n",
      "num62, x0.4512057927111073\n",
      "num63, x0.47035207583975736\n",
      "num64, x0.42572506869934146\n",
      "num65, x0.39385761032708083\n",
      "num66, x0.36292834609120456\n",
      "num67, x0.3727399057040431\n",
      "num68, x0.3049039594265596\n",
      "num69, x0.34084526805116266\n",
      "num70, x0.3264028482104231\n",
      "num71, x0.3954213831643023\n",
      "num72, x0.43851545077882464\n",
      "num73, x0.42254727978980516\n",
      "num74, x0.4082754052224705\n",
      "num75, x0.4024720063416255\n",
      "num76, x0.3460274330174449\n",
      "num77, x0.3752806778428424\n",
      "num78, x0.49499795134924296\n",
      "num79, x0.5489533065822354\n",
      "num80, x0.6259313416920196\n",
      "num81, x0.5390011518579416\n",
      "num82, x0.5544506337476359\n",
      "num83, x0.49066553524149065\n",
      "num84, x0.42547676312821625\n",
      "num85, x0.43261675290695867\n",
      "num86, x0.3240596111823344\n",
      "num87, x0.377996420166481\n",
      "num88, x0.40585202186454294\n",
      "num89, x0.3772999888845241\n",
      "num90, x0.44570806240254235\n",
      "num91, x0.32516295437711146\n",
      "num92, x0.4426251636952434\n",
      "num93, x0.44780767005321126\n",
      "num94, x0.46979018900225683\n",
      "num95, x0.40686020362804814\n",
      "num96, x0.4652269269918855\n",
      "num97, x0.42046595877398635\n",
      "num98, x0.4127694076729603\n",
      "num99, x0.40735324426729524\n"
     ]
    }
   ],
   "source": [
    "n = 10000\n",
    "x = np.zeros(n+1)\n",
    "x[0] = 0.5\n",
    "rand = np.random.uniform(0, 1)\n",
    "for i in range(n):\n",
    "    x_c = np.random.normal(x[i], 0.05)\n",
    "    \n",
    "    if rand < min(1, norm.pdf(x_c) / norm.pdf(x[i])):\n",
    "        x[i+1] = x_c\n",
    "    else:\n",
    "        x[i+1] = x[i]\n",
    "    if i//100 == 0:\n",
    "        print('num{}, x{}'.format(i, x[i]))"
   ]
  },
  {
   "cell_type": "code",
   "execution_count": 14,
   "metadata": {},
   "outputs": [
    {
     "data": {
      "image/png": "[encoded data removed]",
      "text/plain": [
       "<Figure size 864x504 with 1 Axes>"
      ]
     },
     "metadata": {},
     "output_type": "display_data"
    }
   ],
   "source": [
    "plt.figure(figsize=(12, 7))\n",
    "plt.hist(x, 50)\n",
    "plt.show()"
   ]
  },
  {
   "cell_type": "code",
   "execution_count": 15,
   "metadata": {},
   "outputs": [
    {
     "data": {
      "text/plain": [
       "-2.3953207072681537"
      ]
     },
     "execution_count": 15,
     "metadata": {},
     "output_type": "execute_result"
    }
   ],
   "source": [
    "x[-1]"
   ]
  },
  {
   "cell_type": "code",
   "execution_count": null,
   "metadata": {},
   "outputs": [],
   "source": []
  }
 ],
 "metadata": {
  "kernelspec": {
   "display_name": "Python 3",
   "language": "python",
   "name": "python3"
  },
  "language_info": {
   "codemirror_mode": {
    "name": "ipython",
    "version": 3
   },
   "file_extension": ".py",
   "mimetype": "text/x-python",
   "name": "python",
   "nbconvert_exporter": "python",
   "pygments_lexer": "ipython3",
   "version": "3.6.0"
  }
 },
 "nbformat": 4,
 "nbformat_minor": 2
}
