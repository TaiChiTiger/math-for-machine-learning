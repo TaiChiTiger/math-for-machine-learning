{
 "cells": [
  {
   "cell_type": "code",
   "execution_count": 5,
   "metadata": {},
   "outputs": [],
   "source": [
    "import sympy as sp\n",
    "from sympy import stats\n",
    "sp.init_printing()"
   ]
  },
  {
   "cell_type": "code",
   "execution_count": 8,
   "metadata": {},
   "outputs": [],
   "source": [
    "p, t = sp.symbols('p t', positive=True)\n",
    "x = stats.Binomial('x', 10, p)\n",
    "mgf = stats.E(sp.exp(t*x))"
   ]
  },
  {
   "cell_type": "markdown",
   "metadata": {},
   "source": [
    "### first moment - mean"
   ]
  },
  {
   "cell_type": "code",
   "execution_count": 12,
   "metadata": {},
   "outputs": [
    {
     "data": {
      "image/png": "[encoded data removed]",
      "text/latex": [
       "$$10 p$$"
      ],
      "text/plain": [
       "10⋅p"
      ]
     },
     "execution_count": 12,
     "metadata": {},
     "output_type": "execute_result"
    }
   ],
   "source": [
    "sp.simplify(stats.E(x))"
   ]
  },
  {
   "cell_type": "code",
   "execution_count": 18,
   "metadata": {},
   "outputs": [
    {
     "data": {
      "image/png": "[encoded data removed]",
      "text/latex": [
       "$$10 p$$"
      ],
      "text/plain": [
       "10⋅p"
      ]
     },
     "execution_count": 18,
     "metadata": {},
     "output_type": "execute_result"
    }
   ],
   "source": [
    "sp.simplify(sp.diff(mgf, t).subs(t, 0))"
   ]
  },
  {
   "cell_type": "code",
   "execution_count": 22,
   "metadata": {},
   "outputs": [
    {
     "data": {
      "image/png": "[encoded data removed]",
      "text/latex": [
       "$$10 p$$"
      ],
      "text/plain": [
       "10⋅p"
      ]
     },
     "execution_count": 22,
     "metadata": {},
     "output_type": "execute_result"
    }
   ],
   "source": [
    "sp.simplify(stats.moment(x, 1))"
   ]
  },
  {
   "cell_type": "markdown",
   "metadata": {},
   "source": [
    "### 2rd moment - variance"
   ]
  },
  {
   "cell_type": "code",
   "execution_count": 30,
   "metadata": {},
   "outputs": [
    {
     "data": {
      "image/png": "[encoded data removed]",
      "text/latex": [
       "$$10 p \\left(9 p + 1\\right)$$"
      ],
      "text/plain": [
       "10⋅p⋅(9⋅p + 1)"
      ]
     },
     "execution_count": 30,
     "metadata": {},
     "output_type": "execute_result"
    }
   ],
   "source": [
    "mgf_diff = sp.diff(mgf, t)\n",
    "mgf_diff2 = sp.diff(mgf_diff, t)\n",
    "sp.simplify(mgf_diff2.subs(t, 0))"
   ]
  },
  {
   "cell_type": "code",
   "execution_count": 29,
   "metadata": {},
   "outputs": [
    {
     "data": {
      "image/png": "[encoded data removed]",
      "text/latex": [
       "$$10 p \\left(9 p + 1\\right)$$"
      ],
      "text/plain": [
       "10⋅p⋅(9⋅p + 1)"
      ]
     },
     "execution_count": 29,
     "metadata": {},
     "output_type": "execute_result"
    }
   ],
   "source": [
    "sp.simplify(stats.E(x**2))"
   ]
  },
  {
   "cell_type": "code",
   "execution_count": 28,
   "metadata": {},
   "outputs": [
    {
     "data": {
      "image/png": "[encoded data removed]",
      "text/latex": [
       "$$10 p \\left(9 p + 1\\right)$$"
      ],
      "text/plain": [
       "10⋅p⋅(9⋅p + 1)"
      ]
     },
     "execution_count": 28,
     "metadata": {},
     "output_type": "execute_result"
    }
   ],
   "source": [
    "sp.simplify(stats.moment(x, 2))"
   ]
  },
  {
   "cell_type": "markdown",
   "metadata": {},
   "source": [
    "## deriving distributions of sums of independent random variables"
   ]
  },
  {
   "cell_type": "code",
   "execution_count": 33,
   "metadata": {},
   "outputs": [
    {
     "data": {
      "image/png": "[encoded data removed]",
      "text/latex": [
       "$$t$$"
      ],
      "text/plain": [
       "t"
      ]
     },
     "execution_count": 33,
     "metadata": {},
     "output_type": "execute_result"
    }
   ],
   "source": [
    "sp.var('x:2', real=True)\n",
    "sp.var('mu:2', real=True)\n",
    "sp.var('sigma:2', positive=True)\n",
    "sp.var('t', positive=True)"
   ]
  },
  {
   "cell_type": "code",
   "execution_count": 34,
   "metadata": {},
   "outputs": [],
   "source": [
    "x0 = stats.Normal(x0, mu0, sigma0)\n",
    "x1 = stats.Normal(x1, mu1, sigma1)"
   ]
  },
  {
   "cell_type": "code",
   "execution_count": 39,
   "metadata": {},
   "outputs": [],
   "source": [
    "mgf0 = sp.simplify(stats.E(sp.exp(t*x0)))\n",
    "mgf1 = sp.simplify(stats.E(sp.exp(t*x1)))"
   ]
  },
  {
   "cell_type": "code",
   "execution_count": 42,
   "metadata": {},
   "outputs": [
    {
     "data": {
      "image/png": "[encoded data removed]",
      "text/latex": [
       "$$e^{\\frac{t}{2} \\left(2 \\mu_{0} + 2 \\mu_{1} + \\sigma_{0}^{2} t + \\sigma_{1}^{2} t\\right)}$$"
      ],
      "text/plain": [
       "   ⎛                2       2  ⎞\n",
       " t⋅⎝2⋅μ₀ + 2⋅μ₁ + σ₀ ⋅t + σ₁ ⋅t⎠\n",
       " ───────────────────────────────\n",
       "                2               \n",
       "ℯ                               "
      ]
     },
     "execution_count": 42,
     "metadata": {},
     "output_type": "execute_result"
    }
   ],
   "source": [
    "mgf_Y = sp.simplify(mgf0*mgf1)\n",
    "mgf_Y"
   ]
  },
  {
   "cell_type": "code",
   "execution_count": 53,
   "metadata": {},
   "outputs": [
    {
     "data": {
      "image/png": "[encoded data removed]",
      "text/latex": [
       "$$\\frac{t}{2} \\left(2 \\mu_{0} + 2 \\mu_{1} + \\sigma_{0}^{2} t + \\sigma_{1}^{2} t\\right)$$"
      ],
      "text/plain": [
       "  ⎛                2       2  ⎞\n",
       "t⋅⎝2⋅μ₀ + 2⋅μ₁ + σ₀ ⋅t + σ₁ ⋅t⎠\n",
       "───────────────────────────────\n",
       "               2               "
      ]
     },
     "execution_count": 53,
     "metadata": {},
     "output_type": "execute_result"
    }
   ],
   "source": [
    "sp.log(mgf_Y)"
   ]
  },
  {
   "cell_type": "code",
   "execution_count": 50,
   "metadata": {
    "scrolled": true
   },
   "outputs": [
    {
     "data": {
      "image/png": "[encoded data removed]",
      "text/latex": [
       "$$\\mu_{0} t + \\mu_{1} t + \\frac{\\sigma_{0}^{2} t^{2}}{2} + \\frac{\\sigma_{1}^{2} t^{2}}{2}$$"
      ],
      "text/plain": [
       "                2  2     2  2\n",
       "              σ₀ ⋅t    σ₁ ⋅t \n",
       "μ₀⋅t + μ₁⋅t + ────── + ──────\n",
       "                2        2   "
      ]
     },
     "execution_count": 50,
     "metadata": {},
     "output_type": "execute_result"
    }
   ],
   "source": [
    "sp.expand(sp.log(mgf_Y))"
   ]
  },
  {
   "cell_type": "code",
   "execution_count": 51,
   "metadata": {},
   "outputs": [
    {
     "data": {
      "image/png": "[encoded data removed]",
      "text/latex": [
       "$$t^{2} \\left(\\frac{\\sigma_{0}^{2}}{2} + \\frac{\\sigma_{1}^{2}}{2}\\right) + t \\left(\\mu_{0} + \\mu_{1}\\right)$$"
      ],
      "text/plain": [
       "   ⎛  2     2⎞              \n",
       " 2 ⎜σ₀    σ₁ ⎟              \n",
       "t ⋅⎜─── + ───⎟ + t⋅(μ₀ + μ₁)\n",
       "   ⎝ 2     2 ⎠              "
      ]
     },
     "execution_count": 51,
     "metadata": {},
     "output_type": "execute_result"
    }
   ],
   "source": [
    "sp.collect(sp.expand(sp.log(mgf_Y)), t)"
   ]
  },
  {
   "cell_type": "code",
   "execution_count": null,
   "metadata": {},
   "outputs": [],
   "source": []
  }
 ],
 "metadata": {
  "kernelspec": {
   "display_name": "Python 3",
   "language": "python",
   "name": "python3"
  },
  "language_info": {
   "codemirror_mode": {
    "name": "ipython",
    "version": 3
   },
   "file_extension": ".py",
   "mimetype": "text/x-python",
   "name": "python",
   "nbconvert_exporter": "python",
   "pygments_lexer": "ipython3",
   "version": "3.6.8"
  }
 },
 "nbformat": 4,
 "nbformat_minor": 2
}
