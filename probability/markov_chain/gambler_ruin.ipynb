{
 "cells": [
  {
   "cell_type": "code",
   "execution_count": 1,
   "metadata": {},
   "outputs": [],
   "source": [
    "import numpy as np\n",
    "import matplotlib.pyplot as plt"
   ]
  },
  {
   "cell_type": "code",
   "execution_count": 2,
   "metadata": {},
   "outputs": [],
   "source": [
    "def gambler_ruin(init_m, rounds):\n",
    "    A = np.zeros(rounds + 1)\n",
    "    A[0] = init_m\n",
    "    for r in range(1, rounds+1):\n",
    "        if A[r-1] == 0 or A[r-1] == money:\n",
    "            A[r] = A[r-1]\n",
    "        else:\n",
    "            A[r] = A[r-1] + np.random.choice([-1, 1], 1, p=[0.3, 0.7])\n",
    "        print(\"Round {}: Gambler A has {} money, Grambler B has {} moneny\".format(r, A[r], 10-A[r]))\n",
    "    return A, 10-A"
   ]
  },
  {
   "cell_type": "code",
   "execution_count": 3,
   "metadata": {},
   "outputs": [
    {
     "name": "stdout",
     "output_type": "stream",
     "text": [
      "Round 1: Gambler A has 4.0 money, Grambler B has 6.0 moneny\n",
      "Round 2: Gambler A has 5.0 money, Grambler B has 5.0 moneny\n",
      "Round 3: Gambler A has 6.0 money, Grambler B has 4.0 moneny\n",
      "Round 4: Gambler A has 7.0 money, Grambler B has 3.0 moneny\n",
      "Round 5: Gambler A has 8.0 money, Grambler B has 2.0 moneny\n",
      "Round 6: Gambler A has 9.0 money, Grambler B has 1.0 moneny\n",
      "Round 7: Gambler A has 10.0 money, Grambler B has 0.0 moneny\n",
      "Round 8: Gambler A has 10.0 money, Grambler B has 0.0 moneny\n",
      "Round 9: Gambler A has 10.0 money, Grambler B has 0.0 moneny\n",
      "Round 10: Gambler A has 10.0 money, Grambler B has 0.0 moneny\n",
      "Round 11: Gambler A has 10.0 money, Grambler B has 0.0 moneny\n",
      "Round 12: Gambler A has 10.0 money, Grambler B has 0.0 moneny\n",
      "Round 13: Gambler A has 10.0 money, Grambler B has 0.0 moneny\n",
      "Round 14: Gambler A has 10.0 money, Grambler B has 0.0 moneny\n",
      "Round 15: Gambler A has 10.0 money, Grambler B has 0.0 moneny\n",
      "Round 16: Gambler A has 10.0 money, Grambler B has 0.0 moneny\n",
      "Round 17: Gambler A has 10.0 money, Grambler B has 0.0 moneny\n",
      "Round 18: Gambler A has 10.0 money, Grambler B has 0.0 moneny\n",
      "Round 19: Gambler A has 10.0 money, Grambler B has 0.0 moneny\n",
      "Round 20: Gambler A has 10.0 money, Grambler B has 0.0 moneny\n",
      "Round 21: Gambler A has 10.0 money, Grambler B has 0.0 moneny\n",
      "Round 22: Gambler A has 10.0 money, Grambler B has 0.0 moneny\n",
      "Round 23: Gambler A has 10.0 money, Grambler B has 0.0 moneny\n",
      "Round 24: Gambler A has 10.0 money, Grambler B has 0.0 moneny\n",
      "Round 25: Gambler A has 10.0 money, Grambler B has 0.0 moneny\n",
      "Round 26: Gambler A has 10.0 money, Grambler B has 0.0 moneny\n",
      "Round 27: Gambler A has 10.0 money, Grambler B has 0.0 moneny\n",
      "Round 28: Gambler A has 10.0 money, Grambler B has 0.0 moneny\n",
      "Round 29: Gambler A has 10.0 money, Grambler B has 0.0 moneny\n",
      "Round 30: Gambler A has 10.0 money, Grambler B has 0.0 moneny\n",
      "Round 31: Gambler A has 10.0 money, Grambler B has 0.0 moneny\n",
      "Round 32: Gambler A has 10.0 money, Grambler B has 0.0 moneny\n",
      "Round 33: Gambler A has 10.0 money, Grambler B has 0.0 moneny\n",
      "Round 34: Gambler A has 10.0 money, Grambler B has 0.0 moneny\n",
      "Round 35: Gambler A has 10.0 money, Grambler B has 0.0 moneny\n",
      "Round 36: Gambler A has 10.0 money, Grambler B has 0.0 moneny\n",
      "Round 37: Gambler A has 10.0 money, Grambler B has 0.0 moneny\n",
      "Round 38: Gambler A has 10.0 money, Grambler B has 0.0 moneny\n",
      "Round 39: Gambler A has 10.0 money, Grambler B has 0.0 moneny\n",
      "Round 40: Gambler A has 10.0 money, Grambler B has 0.0 moneny\n",
      "Round 41: Gambler A has 10.0 money, Grambler B has 0.0 moneny\n",
      "Round 42: Gambler A has 10.0 money, Grambler B has 0.0 moneny\n",
      "Round 43: Gambler A has 10.0 money, Grambler B has 0.0 moneny\n",
      "Round 44: Gambler A has 10.0 money, Grambler B has 0.0 moneny\n",
      "Round 45: Gambler A has 10.0 money, Grambler B has 0.0 moneny\n",
      "Round 46: Gambler A has 10.0 money, Grambler B has 0.0 moneny\n",
      "Round 47: Gambler A has 10.0 money, Grambler B has 0.0 moneny\n",
      "Round 48: Gambler A has 10.0 money, Grambler B has 0.0 moneny\n",
      "Round 49: Gambler A has 10.0 money, Grambler B has 0.0 moneny\n",
      "Round 50: Gambler A has 10.0 money, Grambler B has 0.0 moneny\n"
     ]
    }
   ],
   "source": [
    "global money\n",
    "money = 10\n",
    "A, B = gambler_ruin(3, 50)"
   ]
  },
  {
   "cell_type": "code",
   "execution_count": 4,
   "metadata": {},
   "outputs": [
    {
     "data": {
      "image/png": "[encoded data removed]",
      "text/plain": [
       "<Figure size 432x288 with 1 Axes>"
      ]
     },
     "metadata": {
      "needs_background": "light"
     },
     "output_type": "display_data"
    }
   ],
   "source": [
    "plt.plot(A, label='Gambler A')\n",
    "plt.plot(B, label='Gambler B')\n",
    "plt.legend()\n",
    "plt.show()"
   ]
  },
  {
   "cell_type": "code",
   "execution_count": null,
   "metadata": {},
   "outputs": [],
   "source": []
  }
 ],
 "metadata": {
  "kernelspec": {
   "display_name": "Python 3",
   "language": "python",
   "name": "python3"
  },
  "language_info": {
   "codemirror_mode": {
    "name": "ipython",
    "version": 3
   },
   "file_extension": ".py",
   "mimetype": "text/x-python",
   "name": "python",
   "nbconvert_exporter": "python",
   "pygments_lexer": "ipython3",
   "version": "3.6.8"
  }
 },
 "nbformat": 4,
 "nbformat_minor": 2
}
