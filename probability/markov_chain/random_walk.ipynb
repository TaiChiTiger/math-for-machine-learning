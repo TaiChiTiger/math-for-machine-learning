{
 "cells": [
  {
   "cell_type": "code",
   "execution_count": 75,
   "metadata": {},
   "outputs": [],
   "source": [
    "import numpy as np\n",
    "from sympy.stats import Binomial, P, density\n",
    "from sympy import Eq\n",
    "import sympy\n",
    "sympy.init_printing()\n",
    "import matplotlib.pyplot as plt\n",
    "%matplotlib inline"
   ]
  },
  {
   "cell_type": "markdown",
   "metadata": {},
   "source": [
    "### Random Walk On A Number Line"
   ]
  },
  {
   "cell_type": "code",
   "execution_count": 59,
   "metadata": {},
   "outputs": [],
   "source": [
    "def random_walk_1(n):\n",
    "    x = 0\n",
    "    for i in range(n):\n",
    "        dx = np.random.choice([-1, 1])\n",
    "        x += dx\n",
    "    return x"
   ]
  },
  {
   "cell_type": "code",
   "execution_count": 60,
   "metadata": {},
   "outputs": [
    {
     "data": {
      "text/plain": [
       "-10"
      ]
     },
     "execution_count": 60,
     "metadata": {},
     "output_type": "execute_result"
    }
   ],
   "source": [
    "n = 100\n",
    "random_walk_1(n)"
   ]
  },
  {
   "cell_type": "code",
   "execution_count": 89,
   "metadata": {},
   "outputs": [
    {
     "data": {
      "text/plain": [
       "[<matplotlib.lines.Line2D at 0x15a172e8>]"
      ]
     },
     "execution_count": 89,
     "metadata": {},
     "output_type": "execute_result"
    },
    {
     "data": {
      "image/png": "[encoded data removed]",
      "text/plain": [
       "<Figure size 432x288 with 1 Axes>"
      ]
     },
     "metadata": {},
     "output_type": "display_data"
    }
   ],
   "source": [
    "X = Binomial('X', n, 1/2)\n",
    "ll = density(X)\n",
    "plt.plot(ll.values())"
   ]
  },
  {
   "cell_type": "code",
   "execution_count": null,
   "metadata": {},
   "outputs": [],
   "source": []
  },
  {
   "cell_type": "code",
   "execution_count": 78,
   "metadata": {},
   "outputs": [
    {
     "ename": "AttributeError",
     "evalue": "'BinomialDistribution' object has not attribute 'keys'",
     "output_type": "error",
     "traceback": [
      "\u001b[1;31m---------------------------------------------------------------------------\u001b[0m",
      "\u001b[1;31mValueError\u001b[0m                                Traceback (most recent call last)",
      "\u001b[1;32me:\\a-soft\\anaconda3\\lib\\site-packages\\sympy\\stats\\rv.py\u001b[0m in \u001b[0;36m__getattr__\u001b[1;34m(self, attr)\u001b[0m\n\u001b[0;32m   1091\u001b[0m         \u001b[1;32mtry\u001b[0m\u001b[1;33m:\u001b[0m\u001b[1;33m\u001b[0m\u001b[0m\n\u001b[1;32m-> 1092\u001b[1;33m             \u001b[1;32mreturn\u001b[0m \u001b[0mself\u001b[0m\u001b[1;33m.\u001b[0m\u001b[0margs\u001b[0m\u001b[1;33m[\u001b[0m\u001b[0mself\u001b[0m\u001b[1;33m.\u001b[0m\u001b[0m_argnames\u001b[0m\u001b[1;33m.\u001b[0m\u001b[0mindex\u001b[0m\u001b[1;33m(\u001b[0m\u001b[0mattr\u001b[0m\u001b[1;33m)\u001b[0m\u001b[1;33m]\u001b[0m\u001b[1;33m\u001b[0m\u001b[0m\n\u001b[0m\u001b[0;32m   1093\u001b[0m         \u001b[1;32mexcept\u001b[0m \u001b[0mValueError\u001b[0m\u001b[1;33m:\u001b[0m\u001b[1;33m\u001b[0m\u001b[0m\n",
      "\u001b[1;31mValueError\u001b[0m: tuple.index(x): x not in tuple",
      "\nDuring handling of the above exception, another exception occurred:\n",
      "\u001b[1;31mAttributeError\u001b[0m                            Traceback (most recent call last)",
      "\u001b[1;32m<ipython-input-78-e93daa05ad9f>\u001b[0m in \u001b[0;36m<module>\u001b[1;34m()\u001b[0m\n\u001b[0;32m      1\u001b[0m \u001b[0mdd\u001b[0m \u001b[1;33m=\u001b[0m \u001b[0mdensity\u001b[0m\u001b[1;33m(\u001b[0m\u001b[0mX\u001b[0m\u001b[1;33m)\u001b[0m\u001b[1;33m\u001b[0m\u001b[0m\n\u001b[1;32m----> 2\u001b[1;33m \u001b[0mplt\u001b[0m\u001b[1;33m.\u001b[0m\u001b[0mplot\u001b[0m\u001b[1;33m(\u001b[0m\u001b[0mdd\u001b[0m\u001b[1;33m.\u001b[0m\u001b[0mkeys\u001b[0m\u001b[1;33m(\u001b[0m\u001b[1;33m)\u001b[0m\u001b[1;33m,\u001b[0m \u001b[0mdd\u001b[0m\u001b[1;33m.\u001b[0m\u001b[0mvalues\u001b[0m\u001b[1;33m(\u001b[0m\u001b[1;33m)\u001b[0m\u001b[1;33m)\u001b[0m\u001b[1;33m\u001b[0m\u001b[0m\n\u001b[0m",
      "\u001b[1;32me:\\a-soft\\anaconda3\\lib\\site-packages\\sympy\\stats\\rv.py\u001b[0m in \u001b[0;36m__getattr__\u001b[1;34m(self, attr)\u001b[0m\n\u001b[0;32m   1093\u001b[0m         \u001b[1;32mexcept\u001b[0m \u001b[0mValueError\u001b[0m\u001b[1;33m:\u001b[0m\u001b[1;33m\u001b[0m\u001b[0m\n\u001b[0;32m   1094\u001b[0m             raise AttributeError(\"'%s' object has not attribute '%s'\" % (\n\u001b[1;32m-> 1095\u001b[1;33m                 type(self).__name__, attr))\n\u001b[0m\u001b[0;32m   1096\u001b[0m \u001b[1;33m\u001b[0m\u001b[0m\n\u001b[0;32m   1097\u001b[0m \u001b[1;32mdef\u001b[0m \u001b[0m_value_check\u001b[0m\u001b[1;33m(\u001b[0m\u001b[0mcondition\u001b[0m\u001b[1;33m,\u001b[0m \u001b[0mmessage\u001b[0m\u001b[1;33m)\u001b[0m\u001b[1;33m:\u001b[0m\u001b[1;33m\u001b[0m\u001b[0m\n",
      "\u001b[1;31mAttributeError\u001b[0m: 'BinomialDistribution' object has not attribute 'keys'"
     ]
    }
   ],
   "source": [
    "Y = 2*X - n\n",
    "dd = density(Y)\n",
    "plt.plot(dd.keys(), dd.values())"
   ]
  },
  {
   "cell_type": "code",
   "execution_count": 67,
   "metadata": {},
   "outputs": [
    {
     "ename": "ValueError",
     "evalue": "Condition \"2*X - 100 > k\" contains foreign symbols \n(k,).\nWill be unable to iterate using this condition",
     "output_type": "error",
     "traceback": [
      "\u001b[1;31m---------------------------------------------------------------------------\u001b[0m",
      "\u001b[1;31mValueError\u001b[0m                                Traceback (most recent call last)",
      "\u001b[1;32m<ipython-input-67-27d62f6062bc>\u001b[0m in \u001b[0;36m<module>\u001b[1;34m()\u001b[0m\n\u001b[0;32m      1\u001b[0m \u001b[0mk\u001b[0m \u001b[1;33m=\u001b[0m \u001b[0msympy\u001b[0m\u001b[1;33m.\u001b[0m\u001b[0mSymbol\u001b[0m\u001b[1;33m(\u001b[0m\u001b[1;34m'k'\u001b[0m\u001b[1;33m)\u001b[0m\u001b[1;33m\u001b[0m\u001b[0m\n\u001b[1;32m----> 2\u001b[1;33m \u001b[0mP\u001b[0m\u001b[1;33m(\u001b[0m\u001b[0mY\u001b[0m\u001b[1;33m>\u001b[0m\u001b[0mk\u001b[0m\u001b[1;33m)\u001b[0m\u001b[1;33m\u001b[0m\u001b[0m\n\u001b[0m",
      "\u001b[1;32me:\\a-soft\\anaconda3\\lib\\site-packages\\sympy\\stats\\rv.py\u001b[0m in \u001b[0;36mprobability\u001b[1;34m(condition, given_condition, numsamples, evaluate, **kwargs)\u001b[0m\n\u001b[0;32m    639\u001b[0m \u001b[1;33m\u001b[0m\u001b[0m\n\u001b[0;32m    640\u001b[0m     \u001b[1;31m# Otherwise pass work off to the ProbabilitySpace\u001b[0m\u001b[1;33m\u001b[0m\u001b[1;33m\u001b[0m\u001b[0m\n\u001b[1;32m--> 641\u001b[1;33m     \u001b[0mresult\u001b[0m \u001b[1;33m=\u001b[0m \u001b[0mpspace\u001b[0m\u001b[1;33m(\u001b[0m\u001b[0mcondition\u001b[0m\u001b[1;33m)\u001b[0m\u001b[1;33m.\u001b[0m\u001b[0mprobability\u001b[0m\u001b[1;33m(\u001b[0m\u001b[0mcondition\u001b[0m\u001b[1;33m,\u001b[0m \u001b[1;33m**\u001b[0m\u001b[0mkwargs\u001b[0m\u001b[1;33m)\u001b[0m\u001b[1;33m\u001b[0m\u001b[0m\n\u001b[0m\u001b[0;32m    642\u001b[0m     \u001b[1;32mif\u001b[0m \u001b[0mevaluate\u001b[0m \u001b[1;32mand\u001b[0m \u001b[0mhasattr\u001b[0m\u001b[1;33m(\u001b[0m\u001b[0mresult\u001b[0m\u001b[1;33m,\u001b[0m \u001b[1;34m'doit'\u001b[0m\u001b[1;33m)\u001b[0m\u001b[1;33m:\u001b[0m\u001b[1;33m\u001b[0m\u001b[0m\n\u001b[0;32m    643\u001b[0m         \u001b[1;32mreturn\u001b[0m \u001b[0mresult\u001b[0m\u001b[1;33m.\u001b[0m\u001b[0mdoit\u001b[0m\u001b[1;33m(\u001b[0m\u001b[1;33m)\u001b[0m\u001b[1;33m\u001b[0m\u001b[0m\n",
      "\u001b[1;32me:\\a-soft\\anaconda3\\lib\\site-packages\\sympy\\stats\\frv.py\u001b[0m in \u001b[0;36mprobability\u001b[1;34m(self, condition)\u001b[0m\n\u001b[0;32m    274\u001b[0m         \u001b[0mcond_symbols\u001b[0m \u001b[1;33m=\u001b[0m \u001b[0mfrozenset\u001b[0m\u001b[1;33m(\u001b[0m\u001b[0mrs\u001b[0m\u001b[1;33m.\u001b[0m\u001b[0msymbol\u001b[0m \u001b[1;32mfor\u001b[0m \u001b[0mrs\u001b[0m \u001b[1;32min\u001b[0m \u001b[0mrandom_symbols\u001b[0m\u001b[1;33m(\u001b[0m\u001b[0mcondition\u001b[0m\u001b[1;33m)\u001b[0m\u001b[1;33m)\u001b[0m\u001b[1;33m\u001b[0m\u001b[0m\n\u001b[0;32m    275\u001b[0m         \u001b[1;32massert\u001b[0m \u001b[0mcond_symbols\u001b[0m\u001b[1;33m.\u001b[0m\u001b[0missubset\u001b[0m\u001b[1;33m(\u001b[0m\u001b[0mself\u001b[0m\u001b[1;33m.\u001b[0m\u001b[0msymbols\u001b[0m\u001b[1;33m)\u001b[0m\u001b[1;33m\u001b[0m\u001b[0m\n\u001b[1;32m--> 276\u001b[1;33m         \u001b[1;32mreturn\u001b[0m \u001b[0msum\u001b[0m\u001b[1;33m(\u001b[0m\u001b[0mself\u001b[0m\u001b[1;33m.\u001b[0m\u001b[0mprob_of\u001b[0m\u001b[1;33m(\u001b[0m\u001b[0melem\u001b[0m\u001b[1;33m)\u001b[0m \u001b[1;32mfor\u001b[0m \u001b[0melem\u001b[0m \u001b[1;32min\u001b[0m \u001b[0mself\u001b[0m\u001b[1;33m.\u001b[0m\u001b[0mwhere\u001b[0m\u001b[1;33m(\u001b[0m\u001b[0mcondition\u001b[0m\u001b[1;33m)\u001b[0m\u001b[1;33m)\u001b[0m\u001b[1;33m\u001b[0m\u001b[0m\n\u001b[0m\u001b[0;32m    277\u001b[0m \u001b[1;33m\u001b[0m\u001b[0m\n\u001b[0;32m    278\u001b[0m     \u001b[1;32mdef\u001b[0m \u001b[0mconditional_space\u001b[0m\u001b[1;33m(\u001b[0m\u001b[0mself\u001b[0m\u001b[1;33m,\u001b[0m \u001b[0mcondition\u001b[0m\u001b[1;33m)\u001b[0m\u001b[1;33m:\u001b[0m\u001b[1;33m\u001b[0m\u001b[0m\n",
      "\u001b[1;32me:\\a-soft\\anaconda3\\lib\\site-packages\\sympy\\stats\\frv.py\u001b[0m in \u001b[0;36mwhere\u001b[1;34m(self, condition)\u001b[0m\n\u001b[0;32m    232\u001b[0m     \u001b[1;32mdef\u001b[0m \u001b[0mwhere\u001b[0m\u001b[1;33m(\u001b[0m\u001b[0mself\u001b[0m\u001b[1;33m,\u001b[0m \u001b[0mcondition\u001b[0m\u001b[1;33m)\u001b[0m\u001b[1;33m:\u001b[0m\u001b[1;33m\u001b[0m\u001b[0m\n\u001b[0;32m    233\u001b[0m         \u001b[1;32massert\u001b[0m \u001b[0mall\u001b[0m\u001b[1;33m(\u001b[0m\u001b[0mr\u001b[0m\u001b[1;33m.\u001b[0m\u001b[0msymbol\u001b[0m \u001b[1;32min\u001b[0m \u001b[0mself\u001b[0m\u001b[1;33m.\u001b[0m\u001b[0msymbols\u001b[0m \u001b[1;32mfor\u001b[0m \u001b[0mr\u001b[0m \u001b[1;32min\u001b[0m \u001b[0mrandom_symbols\u001b[0m\u001b[1;33m(\u001b[0m\u001b[0mcondition\u001b[0m\u001b[1;33m)\u001b[0m\u001b[1;33m)\u001b[0m\u001b[1;33m\u001b[0m\u001b[0m\n\u001b[1;32m--> 234\u001b[1;33m         \u001b[1;32mreturn\u001b[0m \u001b[0mConditionalFiniteDomain\u001b[0m\u001b[1;33m(\u001b[0m\u001b[0mself\u001b[0m\u001b[1;33m.\u001b[0m\u001b[0mdomain\u001b[0m\u001b[1;33m,\u001b[0m \u001b[0mcondition\u001b[0m\u001b[1;33m)\u001b[0m\u001b[1;33m\u001b[0m\u001b[0m\n\u001b[0m\u001b[0;32m    235\u001b[0m \u001b[1;33m\u001b[0m\u001b[0m\n\u001b[0;32m    236\u001b[0m     \u001b[1;32mdef\u001b[0m \u001b[0mcompute_density\u001b[0m\u001b[1;33m(\u001b[0m\u001b[0mself\u001b[0m\u001b[1;33m,\u001b[0m \u001b[0mexpr\u001b[0m\u001b[1;33m)\u001b[0m\u001b[1;33m:\u001b[0m\u001b[1;33m\u001b[0m\u001b[0m\n",
      "\u001b[1;32me:\\a-soft\\anaconda3\\lib\\site-packages\\sympy\\stats\\frv.py\u001b[0m in \u001b[0;36m__new__\u001b[1;34m(cls, domain, condition)\u001b[0m\n\u001b[0;32m    134\u001b[0m             raise ValueError('Condition \"%s\" contains foreign symbols \\n%s.\\n' % (\n\u001b[0;32m    135\u001b[0m                 condition, tuple(cond.free_symbols - domain.free_symbols)) +\n\u001b[1;32m--> 136\u001b[1;33m                 \"Will be unable to iterate using this condition\")\n\u001b[0m\u001b[0;32m    137\u001b[0m \u001b[1;33m\u001b[0m\u001b[0m\n\u001b[0;32m    138\u001b[0m         \u001b[1;32mreturn\u001b[0m \u001b[0mBasic\u001b[0m\u001b[1;33m.\u001b[0m\u001b[0m__new__\u001b[0m\u001b[1;33m(\u001b[0m\u001b[0mcls\u001b[0m\u001b[1;33m,\u001b[0m \u001b[0mdomain\u001b[0m\u001b[1;33m,\u001b[0m \u001b[0mcond\u001b[0m\u001b[1;33m)\u001b[0m\u001b[1;33m\u001b[0m\u001b[0m\n",
      "\u001b[1;31mValueError\u001b[0m: Condition \"2*X - 100 > k\" contains foreign symbols \n(k,).\nWill be unable to iterate using this condition"
     ]
    }
   ],
   "source": [
    "k = sympy.Symbol('k')\n",
    "P(Y>k)"
   ]
  },
  {
   "cell_type": "code",
   "execution_count": null,
   "metadata": {},
   "outputs": [],
   "source": []
  },
  {
   "cell_type": "code",
   "execution_count": 39,
   "metadata": {},
   "outputs": [
    {
     "ename": "NameError",
     "evalue": "name 'P' is not defined",
     "output_type": "error",
     "traceback": [
      "\u001b[1;31m---------------------------------------------------------------------------\u001b[0m",
      "\u001b[1;31mNameError\u001b[0m                                 Traceback (most recent call last)",
      "\u001b[1;32m<ipython-input-39-0c128fe612f8>\u001b[0m in \u001b[0;36m<module>\u001b[1;34m()\u001b[0m\n\u001b[1;32m----> 1\u001b[1;33m \u001b[0mP\u001b[0m\u001b[1;33m(\u001b[0m\u001b[0mEq\u001b[0m\u001b[1;33m(\u001b[0m\u001b[0mY\u001b[0m\u001b[1;33m,\u001b[0m \u001b[1;33m-\u001b[0m\u001b[1;36m4\u001b[0m\u001b[1;33m)\u001b[0m\u001b[1;33m)\u001b[0m\u001b[1;33m\u001b[0m\u001b[0m\n\u001b[0m",
      "\u001b[1;31mNameError\u001b[0m: name 'P' is not defined"
     ]
    }
   ],
   "source": []
  },
  {
   "cell_type": "code",
   "execution_count": null,
   "metadata": {},
   "outputs": [],
   "source": []
  },
  {
   "cell_type": "code",
   "execution_count": 2,
   "metadata": {},
   "outputs": [],
   "source": [
    "def random_walk(n):\n",
    "    x = 0\n",
    "    y = 0\n",
    "    for i in range(n):\n",
    "        state = np.random.choice(['N', 'S', 'E', 'W'])\n",
    "        if state == 'N':\n",
    "            y = y + 1\n",
    "        elif state == 'S':\n",
    "            y = y - 1\n",
    "        elif state == 'E':\n",
    "            x = x - 1\n",
    "        else:\n",
    "            x = x + 1\n",
    "    return (x, y)"
   ]
  },
  {
   "cell_type": "code",
   "execution_count": 3,
   "metadata": {},
   "outputs": [
    {
     "name": "stdout",
     "output_type": "stream",
     "text": [
      "1 (1, 1) Distance from home= 2\n",
      "2 (0, 0) Distance from home= 0\n",
      "3 (0, -2) Distance from home= 2\n",
      "4 (2, -2) Distance from home= 4\n",
      "5 (2, 0) Distance from home= 2\n",
      "6 (1, 5) Distance from home= 6\n",
      "7 (0, -2) Distance from home= 2\n",
      "8 (1, -3) Distance from home= 4\n",
      "9 (-2, 2) Distance from home= 4\n",
      "10 (-2, 0) Distance from home= 2\n",
      "11 (-4, 2) Distance from home= 6\n",
      "12 (3, 3) Distance from home= 6\n",
      "13 (-2, -2) Distance from home= 4\n",
      "14 (1, 3) Distance from home= 4\n",
      "15 (3, -1) Distance from home= 4\n",
      "16 (-2, -4) Distance from home= 6\n",
      "17 (1, -1) Distance from home= 2\n",
      "18 (0, 2) Distance from home= 2\n",
      "19 (3, 1) Distance from home= 4\n",
      "20 (-2, 2) Distance from home= 4\n",
      "21 (0, -4) Distance from home= 4\n",
      "22 (-2, 2) Distance from home= 4\n",
      "23 (0, 2) Distance from home= 2\n",
      "24 (0, -2) Distance from home= 2\n",
      "25 (2, 2) Distance from home= 4\n",
      "26 (0, 2) Distance from home= 2\n",
      "27 (-2, 2) Distance from home= 4\n",
      "28 (-2, -2) Distance from home= 4\n",
      "29 (-2, -2) Distance from home= 4\n",
      "30 (-1, 1) Distance from home= 2\n",
      "31 (4, 2) Distance from home= 6\n",
      "32 (0, 2) Distance from home= 2\n",
      "33 (-1, -1) Distance from home= 2\n",
      "34 (-2, 2) Distance from home= 4\n",
      "35 (-1, 1) Distance from home= 2\n",
      "36 (-3, -1) Distance from home= 4\n",
      "37 (3, 3) Distance from home= 6\n",
      "38 (-1, -3) Distance from home= 4\n",
      "39 (3, -1) Distance from home= 4\n",
      "40 (-2, 0) Distance from home= 2\n",
      "41 (2, 4) Distance from home= 6\n",
      "42 (-2, 4) Distance from home= 6\n",
      "43 (-3, 1) Distance from home= 4\n",
      "44 (0, -4) Distance from home= 4\n",
      "45 (0, -6) Distance from home= 6\n",
      "46 (-4, -2) Distance from home= 6\n",
      "47 (-1, -1) Distance from home= 2\n",
      "48 (3, 3) Distance from home= 6\n",
      "49 (0, -2) Distance from home= 2\n",
      "50 (3, 3) Distance from home= 6\n"
     ]
    }
   ],
   "source": [
    "for i in range(1, 51):\n",
    "    walk = random_walk(10)\n",
    "    print(i, walk, \"Distance from home=\", abs(walk[0])+abs(walk[1]))"
   ]
  },
  {
   "cell_type": "code",
   "execution_count": 16,
   "metadata": {},
   "outputs": [],
   "source": [
    "def random_walk_1(n):\n",
    "    x, y = 0, 0\n",
    "    for i in range(n):\n",
    "        dx, dy = random.choice([(0, 1), (0, -1), (1, 0), (-1, 0)])\n",
    "        x += dx\n",
    "        y += dy\n",
    "    return (x, y)  "
   ]
  },
  {
   "cell_type": "code",
   "execution_count": 17,
   "metadata": {
    "scrolled": true
   },
   "outputs": [
    {
     "name": "stdout",
     "output_type": "stream",
     "text": [
      "1 (-1, -1) Distance from home= 2\n",
      "2 (-3, 1) Distance from home= 4\n",
      "3 (-3, 1) Distance from home= 4\n",
      "4 (0, -2) Distance from home= 2\n",
      "5 (2, -2) Distance from home= 4\n",
      "6 (-3, 1) Distance from home= 4\n",
      "7 (0, -2) Distance from home= 2\n",
      "8 (0, 2) Distance from home= 2\n",
      "9 (0, 2) Distance from home= 2\n",
      "10 (0, 0) Distance from home= 0\n",
      "11 (5, -1) Distance from home= 6\n",
      "12 (1, 5) Distance from home= 6\n",
      "13 (5, 1) Distance from home= 6\n",
      "14 (-1, 3) Distance from home= 4\n",
      "15 (3, -3) Distance from home= 6\n",
      "16 (0, 4) Distance from home= 4\n",
      "17 (-2, 2) Distance from home= 4\n",
      "18 (-4, 0) Distance from home= 4\n",
      "19 (-3, 1) Distance from home= 4\n",
      "20 (0, -2) Distance from home= 2\n",
      "21 (-1, -1) Distance from home= 2\n",
      "22 (1, 1) Distance from home= 2\n",
      "23 (-4, 2) Distance from home= 6\n",
      "24 (-1, -3) Distance from home= 4\n",
      "25 (1, -1) Distance from home= 2\n",
      "26 (-1, 1) Distance from home= 2\n",
      "27 (0, -2) Distance from home= 2\n",
      "28 (-3, 3) Distance from home= 6\n",
      "29 (-4, 2) Distance from home= 6\n",
      "30 (1, 1) Distance from home= 2\n",
      "31 (-1, 3) Distance from home= 4\n",
      "32 (-5, -3) Distance from home= 8\n",
      "33 (-1, 1) Distance from home= 2\n",
      "34 (0, 2) Distance from home= 2\n",
      "35 (4, 0) Distance from home= 4\n",
      "36 (4, 0) Distance from home= 4\n",
      "37 (3, -1) Distance from home= 4\n",
      "38 (1, -1) Distance from home= 2\n",
      "39 (4, 0) Distance from home= 4\n",
      "40 (0, -4) Distance from home= 4\n",
      "41 (1, -1) Distance from home= 2\n",
      "42 (0, 2) Distance from home= 2\n",
      "43 (0, 2) Distance from home= 2\n",
      "44 (-1, -1) Distance from home= 2\n",
      "45 (0, -2) Distance from home= 2\n",
      "46 (0, 2) Distance from home= 2\n",
      "47 (-2, 2) Distance from home= 4\n",
      "48 (-3, 3) Distance from home= 6\n",
      "49 (-1, -1) Distance from home= 2\n",
      "50 (1, 3) Distance from home= 4\n"
     ]
    }
   ],
   "source": [
    "for i in range(1, 51):\n",
    "    walk = random_walk_2(10)\n",
    "    print(i, walk, \"Distance from home=\", abs(walk[0])+abs(walk[1]))"
   ]
  },
  {
   "cell_type": "markdown",
   "metadata": {},
   "source": [
    "What is the longest random walk you can take so that on average you will end up 4 blocks or fewer from home?"
   ]
  },
  {
   "cell_type": "code",
   "execution_count": 20,
   "metadata": {},
   "outputs": [
    {
     "name": "stdout",
     "output_type": "stream",
     "text": [
      "Walk size =  1  / % of no transport=  100.0\n",
      "Walk size =  2  / % of no transport=  100.0\n",
      "Walk size =  3  / % of no transport=  100.0\n",
      "Walk size =  4  / % of no transport=  100.0\n",
      "Walk size =  5  / % of no transport=  87.98\n",
      "Walk size =  6  / % of no transport=  93.88\n",
      "Walk size =  7  / % of no transport=  76.24\n",
      "Walk size =  8  / % of no transport=  86.72\n",
      "Walk size =  9  / % of no transport=  67.21000000000001\n",
      "Walk size =  10  / % of no transport=  78.66\n",
      "Walk size =  11  / % of no transport=  59.9\n",
      "Walk size =  12  / % of no transport=  74.07000000000001\n",
      "Walk size =  13  / % of no transport=  53.44\n",
      "Walk size =  14  / % of no transport=  66.67999999999999\n",
      "Walk size =  15  / % of no transport=  48.010000000000005\n",
      "Walk size =  16  / % of no transport=  62.260000000000005\n",
      "Walk size =  17  / % of no transport=  44.51\n",
      "Walk size =  18  / % of no transport=  57.330000000000005\n",
      "Walk size =  19  / % of no transport=  39.989999999999995\n",
      "Walk size =  20  / % of no transport=  54.63\n",
      "Walk size =  21  / % of no transport=  37.8\n",
      "Walk size =  22  / % of no transport=  51.21\n",
      "Walk size =  23  / % of no transport=  36.07\n",
      "Walk size =  24  / % of no transport=  47.27\n",
      "Walk size =  25  / % of no transport=  33.0\n",
      "Walk size =  26  / % of no transport=  45.660000000000004\n",
      "Walk size =  27  / % of no transport=  30.930000000000003\n",
      "Walk size =  28  / % of no transport=  43.91\n",
      "Walk size =  29  / % of no transport=  29.4\n",
      "Walk size =  30  / % of no transport=  41.410000000000004\n"
     ]
    }
   ],
   "source": [
    "number_of_walks = 10000\n",
    "\n",
    "for walk_length in range(1, 31):\n",
    "    no_transport = 0\n",
    "    for i in range(number_of_walks):\n",
    "        (x, y) = random_walk_2(walk_length)\n",
    "        distance = abs(x) + abs(y)\n",
    "        if distance <=4:\n",
    "            no_transport += 1\n",
    "    no_transport_percentage = float(no_transport) / number_of_walks\n",
    "    print(\"Walk size = \", \n",
    "          walk_length, \" / % of no transport= \", 100*no_transport_percentage)    "
   ]
  },
  {
   "cell_type": "code",
   "execution_count": null,
   "metadata": {},
   "outputs": [],
   "source": []
  },
  {
   "cell_type": "code",
   "execution_count": 6,
   "metadata": {},
   "outputs": [],
   "source": [
    "def random_walk1(n):\n",
    "    x = 0\n",
    "    for i in range(n):\n",
    "        state = random.choice(['L', 'R'])\n",
    "        if state == 'L':\n",
    "            x = x - 1\n",
    "        else:\n",
    "            x = x + 1\n",
    "    return x"
   ]
  },
  {
   "cell_type": "code",
   "execution_count": 7,
   "metadata": {},
   "outputs": [
    {
     "data": {
      "text/plain": [
       "-4"
      ]
     },
     "execution_count": 7,
     "metadata": {},
     "output_type": "execute_result"
    }
   ],
   "source": [
    "random_walk1(100)"
   ]
  },
  {
   "cell_type": "code",
   "execution_count": null,
   "metadata": {},
   "outputs": [],
   "source": []
  }
 ],
 "metadata": {
  "kernelspec": {
   "display_name": "Python 3",
   "language": "python",
   "name": "python3"
  },
  "language_info": {
   "codemirror_mode": {
    "name": "ipython",
    "version": 3
   },
   "file_extension": ".py",
   "mimetype": "text/x-python",
   "name": "python",
   "nbconvert_exporter": "python",
   "pygments_lexer": "ipython3",
   "version": "3.6.0"
  }
 },
 "nbformat": 4,
 "nbformat_minor": 2
}
