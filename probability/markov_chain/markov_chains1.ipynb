{
 "cells": [
  {
   "cell_type": "code",
   "execution_count": 1,
   "metadata": {},
   "outputs": [],
   "source": [
    "import numpy as np\n",
    "import matplotlib.pyplot as plt\n",
    "import sympy\n",
    "sympy.init_printing()"
   ]
  },
  {
   "cell_type": "markdown",
   "metadata": {},
   "source": [
    "### Gambler’s ruin"
   ]
  },
  {
   "cell_type": "code",
   "execution_count": 4,
   "metadata": {},
   "outputs": [],
   "source": [
    "n = 10\n",
    "p = 1/2\n",
    "nsim = 80"
   ]
  },
  {
   "cell_type": "code",
   "execution_count": 5,
   "metadata": {},
   "outputs": [],
   "source": [
    "x = np.zeros(nsim)\n",
    "x[0] = 5"
   ]
  },
  {
   "cell_type": "code",
   "execution_count": 6,
   "metadata": {},
   "outputs": [],
   "source": [
    "for i in range(1, 80):\n",
    "    if x[i-1] == 0 or x[i-1] == n:\n",
    "        x[i] = x[i-1]\n",
    "    else:\n",
    "        x[i] = x[i-1] + np.random.choice([-1, 1], 1, p=[p, 1-p])"
   ]
  },
  {
   "cell_type": "code",
   "execution_count": 7,
   "metadata": {
    "scrolled": true
   },
   "outputs": [
    {
     "data": {
      "text/plain": [
       "[<matplotlib.lines.Line2D at 0x10f92668>]"
      ]
     },
     "execution_count": 7,
     "metadata": {},
     "output_type": "execute_result"
    },
    {
     "data": {
      "image/png": "[encoded data removed]",
      "text/plain": [
       "<Figure size 432x288 with 1 Axes>"
      ]
     },
     "metadata": {},
     "output_type": "display_data"
    }
   ],
   "source": [
    "plt.plot(x)"
   ]
  },
  {
   "cell_type": "markdown",
   "metadata": {},
   "source": [
    "## Simulating from a finite-state Markov chain"
   ]
  },
  {
   "cell_type": "markdown",
   "metadata": {},
   "source": [
    "<img src=\"img/4-state_Markov chain.jpg\">"
   ]
  },
  {
   "cell_type": "code",
   "execution_count": 28,
   "metadata": {},
   "outputs": [
    {
     "data": {
      "text/plain": [
       "array([[0.33333333, 0.33333333, 0.33333333, 0.        ],\n",
       "       [0.        , 0.        , 0.5       , 0.5       ],\n",
       "       [0.        , 1.        , 0.        , 0.        ],\n",
       "       [0.5       , 0.        , 0.        , 0.5       ]])"
      ]
     },
     "execution_count": 28,
     "metadata": {},
     "output_type": "execute_result"
    }
   ],
   "source": [
    "# the transition matrix of 4 state Markov chain\n",
    "Q = np.array([[1/3,1/3,1/3,0], [0,0,1/2,1/2], [0,1,0,0], [1/2,0,0,1/2]])\n",
    "Q"
   ]
  },
  {
   "cell_type": "markdown",
   "metadata": {},
   "source": [
    "#### 1. Starting at state 1, after 5 steps, reach at state 3, compute the probability:"
   ]
  },
  {
   "cell_type": "code",
   "execution_count": 26,
   "metadata": {},
   "outputs": [
    {
     "data": {
      "text/plain": [
       "array([[0.219393  , 0.26183128, 0.21399177, 0.30478395],\n",
       "       [0.20023148, 0.19675926, 0.28703704, 0.31597222],\n",
       "       [0.25694444, 0.40277778, 0.11111111, 0.22916667],\n",
       "       [0.19251543, 0.30478395, 0.2191358 , 0.28356481]])"
      ]
     },
     "execution_count": 26,
     "metadata": {},
     "output_type": "execute_result"
    }
   ],
   "source": [
    "# 5-step transition matrix\n",
    "Q_5 = np.linalg.matrix_power(Q, 5)\n",
    "Q_5"
   ]
  },
  {
   "cell_type": "code",
   "execution_count": 31,
   "metadata": {},
   "outputs": [
    {
     "data": {
      "text/plain": [
       "0.21399176954732507"
      ]
     },
     "execution_count": 31,
     "metadata": {},
     "output_type": "execute_result"
    }
   ],
   "source": [
    "# 1->3\n",
    "Q_5[0, 2]"
   ]
  },
  {
   "cell_type": "markdown",
   "metadata": {},
   "source": [
    "#### 2. Marginal distribution of $X_5$ "
   ]
  },
  {
   "cell_type": "code",
   "execution_count": 30,
   "metadata": {},
   "outputs": [
    {
     "data": {
      "text/plain": [
       "array([0.25, 0.25, 0.25, 0.25])"
      ]
     },
     "execution_count": 30,
     "metadata": {},
     "output_type": "execute_result"
    }
   ],
   "source": [
    "# initial condition\n",
    "t = np.array([1/4, 1/4, 1/4, 1/4])\n",
    "t"
   ]
  },
  {
   "cell_type": "code",
   "execution_count": 36,
   "metadata": {},
   "outputs": [
    {
     "data": {
      "text/plain": [
       "array([0.21727109, 0.29153807, 0.20781893, 0.28337191])"
      ]
     },
     "execution_count": 36,
     "metadata": {},
     "output_type": "execute_result"
    }
   ],
   "source": [
    "# the marginal distribution of $X_5$\n",
    "X5_pmf = t.dot(Q_5)\n",
    "X5_pmf"
   ]
  },
  {
   "cell_type": "code",
   "execution_count": 40,
   "metadata": {},
   "outputs": [
    {
     "data": {
      "text/plain": [
       "<matplotlib.collections.PathCollection at 0x1514d160>"
      ]
     },
     "execution_count": 40,
     "metadata": {},
     "output_type": "execute_result"
    },
    {
     "data": {
      "image/png": "[encoded data removed]",
      "text/plain": [
       "<Figure size 432x288 with 1 Axes>"
      ]
     },
     "metadata": {},
     "output_type": "display_data"
    }
   ],
   "source": [
    "plt.scatter(range(1, 5), X5_pmf)"
   ]
  },
  {
   "cell_type": "code",
   "execution_count": 10,
   "metadata": {},
   "outputs": [
    {
     "data": {
      "text/plain": [
       "2.0"
      ]
     },
     "execution_count": 10,
     "metadata": {},
     "output_type": "execute_result"
    }
   ],
   "source": [
    "N = Q.shape[0]\n",
    "\n",
    "nsim = 10**5 # the number of time periods\n",
    "x = np.zeros(nsim)\n",
    "x[0] = np.random.choice(range(1, N), 1)\n",
    "x[0]"
   ]
  },
  {
   "cell_type": "code",
   "execution_count": 11,
   "metadata": {},
   "outputs": [],
   "source": [
    "for i in range(1,nsim):\n",
    "    x[i] = np.random.choice(range(0, N), 1, p=Q[int(x[i-1]), ])"
   ]
  },
  {
   "cell_type": "code",
   "execution_count": 12,
   "metadata": {},
   "outputs": [],
   "source": [
    "x = x[range(int(nsim/2), nsim), ]"
   ]
  },
  {
   "cell_type": "code",
   "execution_count": 13,
   "metadata": {},
   "outputs": [
    {
     "data": {
      "text/plain": [
       "3.0    0.286734\n",
       "1.0    0.285662\n",
       "2.0    0.214380\n",
       "0.0    0.213224\n",
       "dtype: float64"
      ]
     },
     "execution_count": 13,
     "metadata": {},
     "output_type": "execute_result"
    }
   ],
   "source": [
    "import pandas\n",
    " \n",
    "ps = pandas.Series(x)\n",
    "counts = ps.value_counts()\n",
    "counts / len(x)"
   ]
  },
  {
   "cell_type": "code",
   "execution_count": 55,
   "metadata": {},
   "outputs": [],
   "source": [
    "import sympy\n",
    "sympy.init_printing()"
   ]
  },
  {
   "cell_type": "code",
   "execution_count": 95,
   "metadata": {},
   "outputs": [],
   "source": [
    "Q_rainy = sympy.Matrix([[1/3, 2/3], [1/2, 1/2]])"
   ]
  },
  {
   "cell_type": "code",
   "execution_count": 71,
   "metadata": {},
   "outputs": [
    {
     "data": {
      "image/png": "[encoded data removed]",
      "text/latex": [
       "$$\\left \\{ s : 0.428571428571429\\right \\}$$"
      ],
      "text/plain": [
       "{s: 0.428571428571429}"
      ]
     },
     "execution_count": 71,
     "metadata": {},
     "output_type": "execute_result"
    }
   ],
   "source": [
    "sympy.solve(S *Q - S, s)"
   ]
  },
  {
   "cell_type": "code",
   "execution_count": 150,
   "metadata": {},
   "outputs": [],
   "source": [
    "n = [10, 100, 1000, 10000]\n",
    "results = {}\n",
    "for i in n:\n",
    "    l = sympy.MatPow(Q_rainy, i)\n",
    "    results[i] = l.doit()"
   ]
  },
  {
   "cell_type": "code",
   "execution_count": 159,
   "metadata": {},
   "outputs": [
    {
     "data": {
      "text/latex": [
       "$$\\left \\{ 10 : \\left[\\begin{matrix}0.428571438021812 & 0.571428561978187\\\\0.428571421483641 & 0.571428578516359\\end{matrix}\\right], \\quad 100 : \\left[\\begin{matrix}0.428571428571427 & 0.57142857142857\\\\0.428571428571427 & 0.57142857142857\\end{matrix}\\right], \\quad 1000 : \\left[\\begin{matrix}0.428571428571418 & 0.571428571428558\\\\0.428571428571418 & 0.571428571428558\\end{matrix}\\right], \\quad 10000 : \\left[\\begin{matrix}0.428571428571325 & 0.571428571428433\\\\0.428571428571324 & 0.571428571428433\\end{matrix}\\right]\\right \\}$$"
      ],
      "text/plain": [
       "⎧10: ⎡0.428571438021812  0.571428561978187⎤, 100: ⎡0.428571428571427  0.571428\n",
       "⎨    ⎢                                    ⎥       ⎢                           \n",
       "⎩    ⎣0.428571421483641  0.571428578516359⎦       ⎣0.428571428571427  0.571428\n",
       "\n",
       "57142857⎤, 1000: ⎡0.428571428571418  0.571428571428558⎤, 10000: ⎡0.42857142857\n",
       "        ⎥        ⎢                                    ⎥         ⎢             \n",
       "57142857⎦        ⎣0.428571428571418  0.571428571428558⎦         ⎣0.42857142857\n",
       "\n",
       "1325  0.571428571428433⎤⎫\n",
       "                       ⎥⎬\n",
       "1324  0.571428571428433⎦⎭"
      ]
     },
     "execution_count": 159,
     "metadata": {},
     "output_type": "execute_result"
    }
   ],
   "source": [
    "results"
   ]
  },
  {
   "cell_type": "code",
   "execution_count": 156,
   "metadata": {},
   "outputs": [
    {
     "data": {
      "text/latex": [
       "$$\\left[\\begin{matrix}0.428571428571429 & 0.571428571428571\\\\0.428571428571429 & 0.571428571428571\\end{matrix}\\right]$$"
      ],
      "text/plain": [
       "⎡0.428571428571429  0.571428571428571⎤\n",
       "⎢                                    ⎥\n",
       "⎣0.428571428571429  0.571428571428571⎦"
      ]
     },
     "execution_count": 156,
     "metadata": {},
     "output_type": "execute_result"
    }
   ],
   "source": [
    "S = sympy.Matrix([[3/7, 4/7], [3/7, 4/7]])\n",
    "S"
   ]
  },
  {
   "cell_type": "code",
   "execution_count": 172,
   "metadata": {},
   "outputs": [
    {
     "data": {
      "text/latex": [
       "$$\\left[\\begin{matrix}9.45038375332885 \\cdot 10^{-9} & -9.4503839198623 \\cdot 10^{-9}\\\\-7.0877879676523 \\cdot 10^{-9} & 7.08778780111885 \\cdot 10^{-9}\\end{matrix}\\right]$$"
      ],
      "text/plain": [
       "⎡9.45038375332885e-9  -9.4503839198623e-9⎤\n",
       "⎢                                        ⎥\n",
       "⎣-7.0877879676523e-9  7.08778780111885e-9⎦"
      ]
     },
     "execution_count": 172,
     "metadata": {},
     "output_type": "execute_result"
    }
   ],
   "source": [
    "results[10] - S"
   ]
  },
  {
   "cell_type": "code",
   "execution_count": null,
   "metadata": {},
   "outputs": [],
   "source": []
  }
 ],
 "metadata": {
  "kernelspec": {
   "display_name": "Python 3",
   "language": "python",
   "name": "python3"
  },
  "language_info": {
   "codemirror_mode": {
    "name": "ipython",
    "version": 3
   },
   "file_extension": ".py",
   "mimetype": "text/x-python",
   "name": "python",
   "nbconvert_exporter": "python",
   "pygments_lexer": "ipython3",
   "version": "3.7.3"
  }
 },
 "nbformat": 4,
 "nbformat_minor": 2
}
