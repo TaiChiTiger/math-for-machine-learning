{
 "cells": [
  {
   "cell_type": "markdown",
   "metadata": {},
   "source": [
    "## 一般形式"
   ]
  },
  {
   "cell_type": "code",
   "execution_count": 1,
   "metadata": {},
   "outputs": [],
   "source": [
    "import sympy\n",
    "sympy.init_printing()"
   ]
  },
  {
   "cell_type": "code",
   "execution_count": 2,
   "metadata": {},
   "outputs": [
    {
     "data": {
      "text/latex": [
       "$\\displaystyle \\left[\\begin{matrix}\\operatorname{f_{1}}{\\left(x,y,z \\right)}\\\\\\operatorname{f_{2}}{\\left(x,y,z \\right)}\\end{matrix}\\right]$"
      ],
      "text/plain": [
       "⎡f₁(x, y, z)⎤\n",
       "⎢           ⎥\n",
       "⎣f₂(x, y, z)⎦"
      ]
     },
     "execution_count": 2,
     "metadata": {},
     "output_type": "execute_result"
    }
   ],
   "source": [
    "x, y, z = sympy.symbols(\"x, y, z\")\n",
    "f1 = sympy.Function('f1')(x, y, z)\n",
    "f2 = sympy.Function('f2')(x, y, z)\n",
    "f = sympy.Matrix([f1, f2])\n",
    "f"
   ]
  },
  {
   "cell_type": "code",
   "execution_count": 3,
   "metadata": {},
   "outputs": [
    {
     "data": {
      "text/latex": [
       "$\\displaystyle \\left[\\begin{matrix}\\frac{\\partial}{\\partial x} \\operatorname{f_{1}}{\\left(x,y,z \\right)} & \\frac{\\partial}{\\partial y} \\operatorname{f_{1}}{\\left(x,y,z \\right)} & \\frac{\\partial}{\\partial z} \\operatorname{f_{1}}{\\left(x,y,z \\right)}\\\\\\frac{\\partial}{\\partial x} \\operatorname{f_{2}}{\\left(x,y,z \\right)} & \\frac{\\partial}{\\partial y} \\operatorname{f_{2}}{\\left(x,y,z \\right)} & \\frac{\\partial}{\\partial z} \\operatorname{f_{2}}{\\left(x,y,z \\right)}\\end{matrix}\\right]$"
      ],
      "text/plain": [
       "⎡∂                ∂                ∂              ⎤\n",
       "⎢──(f₁(x, y, z))  ──(f₁(x, y, z))  ──(f₁(x, y, z))⎥\n",
       "⎢∂x               ∂y               ∂z             ⎥\n",
       "⎢                                                 ⎥\n",
       "⎢∂                ∂                ∂              ⎥\n",
       "⎢──(f₂(x, y, z))  ──(f₂(x, y, z))  ──(f₂(x, y, z))⎥\n",
       "⎣∂x               ∂y               ∂z             ⎦"
      ]
     },
     "execution_count": 3,
     "metadata": {},
     "output_type": "execute_result"
    }
   ],
   "source": [
    "partial_i = []\n",
    "for x_ in (x, y, z):\n",
    "    for f_ in f:\n",
    "        partial_i.append(f_.diff(x_))\n",
    "        \n",
    "m = len(f)\n",
    "n = len((x, y, z))        \n",
    "jacobian = sympy.Matrix(partial_i).reshape(n, m).T\n",
    "jacobian"
   ]
  },
  {
   "cell_type": "markdown",
   "metadata": {},
   "source": [
    "## $f(x,y)=\\left[\\begin{matrix}x+sin(y)\\\\y+sin(x)\\end{matrix}\\right]$，计算其Jacobian矩阵"
   ]
  },
  {
   "cell_type": "markdown",
   "metadata": {},
   "source": [
    "### 符号法"
   ]
  },
  {
   "cell_type": "code",
   "execution_count": 4,
   "metadata": {},
   "outputs": [
    {
     "data": {
      "text/latex": [
       "$\\displaystyle \\left[\\begin{matrix}x + \\sin{\\left(y \\right)}\\\\y + \\sin{\\left(x \\right)}\\end{matrix}\\right]$"
      ],
      "text/plain": [
       "⎡x + sin(y)⎤\n",
       "⎢          ⎥\n",
       "⎣y + sin(x)⎦"
      ]
     },
     "execution_count": 4,
     "metadata": {},
     "output_type": "execute_result"
    }
   ],
   "source": [
    "x, y = sympy.symbols(\"x, y\")\n",
    "f1 = x + sympy.sin(y)\n",
    "f2 = y + sympy.sin(x)\n",
    "f = sympy.Matrix([f1, f2])\n",
    "f"
   ]
  },
  {
   "cell_type": "code",
   "execution_count": 5,
   "metadata": {},
   "outputs": [],
   "source": [
    "f1_grad = [f1.diff(x_) for x_ in (x, y)]\n",
    "f2_grad = [f2.diff(x_) for x_ in (x, y)]"
   ]
  },
  {
   "cell_type": "code",
   "execution_count": 6,
   "metadata": {},
   "outputs": [
    {
     "data": {
      "text/latex": [
       "$\\displaystyle \\left[\\begin{matrix}1 & \\cos{\\left(y \\right)}\\\\\\cos{\\left(x \\right)} & 1\\end{matrix}\\right]$"
      ],
      "text/plain": [
       "⎡  1     cos(y)⎤\n",
       "⎢              ⎥\n",
       "⎣cos(x)    1   ⎦"
      ]
     },
     "execution_count": 6,
     "metadata": {},
     "output_type": "execute_result"
    }
   ],
   "source": [
    "jacob = sympy.Matrix([f1_grad, f2_grad])\n",
    "jacob"
   ]
  },
  {
   "cell_type": "code",
   "execution_count": 7,
   "metadata": {},
   "outputs": [
    {
     "data": {
      "text/latex": [
       "$\\displaystyle \\left[\\begin{matrix}1 & \\cos{\\left(1 \\right)}\\\\\\cos{\\left(2 \\right)} & 1\\end{matrix}\\right]$"
      ],
      "text/plain": [
       "⎡  1     cos(1)⎤\n",
       "⎢              ⎥\n",
       "⎣cos(2)    1   ⎦"
      ]
     },
     "execution_count": 7,
     "metadata": {},
     "output_type": "execute_result"
    }
   ],
   "source": [
    "jacob.subs({\"x\": -2, \"y\": 1})"
   ]
  },
  {
   "cell_type": "markdown",
   "metadata": {},
   "source": [
    "### 数值法"
   ]
  },
  {
   "cell_type": "code",
   "execution_count": 8,
   "metadata": {},
   "outputs": [],
   "source": [
    "import math\n",
    "import numpy as np"
   ]
  },
  {
   "cell_type": "code",
   "execution_count": 9,
   "metadata": {},
   "outputs": [],
   "source": [
    "f1 = lambda X: X[0] + math.sin(X[1])\n",
    "f2 = lambda X: X[1] + math.sin(X[0])\n",
    "f = [f1, f2]"
   ]
  },
  {
   "cell_type": "code",
   "execution_count": 10,
   "metadata": {},
   "outputs": [],
   "source": [
    "def jacobian(f, X0=[0., 0.]):\n",
    "    f = f\n",
    "    m = len(X0)\n",
    "    n = len(f)\n",
    "    J = np.zeros((m, n))\n",
    "    epsilon = 1e-6\n",
    "    X_delta = dict([(i, x0) for i,x0 in enumerate(X0)])\n",
    "    for i in range(m):\n",
    "        for j in range(n):\n",
    "            X_delta[j] = X0[j] + epsilon\n",
    "            J[i][j] = (f[i](list(X_delta.values())) - f[i](X0)) / epsilon # 使用有限差分求偏微分\n",
    "            X_delta = dict([(i, x0) for i,x0 in enumerate(X0)])\n",
    "        \n",
    "    return J"
   ]
  },
  {
   "cell_type": "code",
   "execution_count": 11,
   "metadata": {},
   "outputs": [
    {
     "data": {
      "text/plain": [
       "array([[ 1.        ,  0.54030189],\n",
       "       [-0.41614638,  1.        ]])"
      ]
     },
     "execution_count": 11,
     "metadata": {},
     "output_type": "execute_result"
    }
   ],
   "source": [
    "jacobian(f, X0=[-2., 1.])"
   ]
  },
  {
   "cell_type": "code",
   "execution_count": null,
   "metadata": {},
   "outputs": [],
   "source": []
  }
 ],
 "metadata": {
  "kernelspec": {
   "display_name": "Python 3",
   "language": "python",
   "name": "python3"
  },
  "language_info": {
   "codemirror_mode": {
    "name": "ipython",
    "version": 3
   },
   "file_extension": ".py",
   "mimetype": "text/x-python",
   "name": "python",
   "nbconvert_exporter": "python",
   "pygments_lexer": "ipython3",
   "version": "3.7.3"
  }
 },
 "nbformat": 4,
 "nbformat_minor": 2
}
