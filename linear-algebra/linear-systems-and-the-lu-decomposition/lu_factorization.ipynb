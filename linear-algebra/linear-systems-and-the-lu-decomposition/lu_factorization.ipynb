{
 "cells": [
  {
   "cell_type": "markdown",
   "metadata": {},
   "source": [
    "## LU分解"
   ]
  },
  {
   "cell_type": "code",
   "execution_count": 1,
   "metadata": {},
   "outputs": [],
   "source": [
    "import numpy as np"
   ]
  },
  {
   "cell_type": "code",
   "execution_count": 3,
   "metadata": {},
   "outputs": [],
   "source": [
    "def pivoting(A):\n",
    "    n = A.shape[0]\n",
    "    P = np.identity(n)\n",
    "\n",
    "    for j in range(n):\n",
    "        row = max(range(j, n), key=lambda i: abs(A[i][j]))\n",
    "        if j != row:\n",
    "            P[[j, row]] = P[[row, j]]\n",
    "    return P"
   ]
  },
  {
   "cell_type": "code",
   "execution_count": 4,
   "metadata": {},
   "outputs": [],
   "source": [
    "def LUPivot_Factorization(A):\n",
    "    n = A.shape[0]\n",
    "    L = np.zeros([n, n])\n",
    "\n",
    "    P = pivoting(A)\n",
    "    PA = np.dot(P, A)\n",
    "    \n",
    "    for j in range(n):\n",
    "        L[j, j] = 1\n",
    "        for i in range(j+1, n):\n",
    "            s = PA[i, j] / PA[j, j]\n",
    "            PA[i] = s * PA[j] - PA[i]\n",
    "            L[i, j] = s\n",
    "    \n",
    "    U = PA\n",
    "    return P, L, U"
   ]
  },
  {
   "cell_type": "markdown",
   "metadata": {},
   "source": [
    "### $A=\\left[\\begin{matrix}1 & -2 & 1\\\\0 & 2 & -8\\\\5 & 0 & -5\\end{matrix}\\right]$"
   ]
  },
  {
   "cell_type": "code",
   "execution_count": 2,
   "metadata": {},
   "outputs": [
    {
     "data": {
      "text/plain": [
       "array([[ 1, -2,  1],\n",
       "       [ 0,  2, -8],\n",
       "       [ 5,  0, -5]])"
      ]
     },
     "execution_count": 2,
     "metadata": {},
     "output_type": "execute_result"
    }
   ],
   "source": [
    "A = np.array([[1,-2, 1], [0, 2, -8], [5, 0, -5]])\n",
    "A"
   ]
  },
  {
   "cell_type": "code",
   "execution_count": 5,
   "metadata": {},
   "outputs": [
    {
     "name": "stdout",
     "output_type": "stream",
     "text": [
      "P:[[0. 0. 1.]\n",
      " [0. 1. 0.]\n",
      " [1. 0. 0.]]\n",
      "\n",
      "L:[[ 1.   0.   0. ]\n",
      " [ 0.   1.   0. ]\n",
      " [ 0.2 -1.   1. ]]\n",
      "\n",
      "U:[[ 5.  0. -5.]\n",
      " [ 0. -2.  8.]\n",
      " [-0.  0. -6.]]\n"
     ]
    }
   ],
   "source": [
    "p, l, u = LUPivot_Factorization(A)\n",
    "print(\"P:{}\\n\".format(p))\n",
    "print(\"L:{}\\n\".format(l))\n",
    "print(\"U:{}\".format(u))"
   ]
  },
  {
   "cell_type": "markdown",
   "metadata": {},
   "source": [
    "### 使用 `Scipy`"
   ]
  },
  {
   "cell_type": "code",
   "execution_count": 1,
   "metadata": {},
   "outputs": [],
   "source": [
    "import scipy.linalg"
   ]
  },
  {
   "cell_type": "code",
   "execution_count": 6,
   "metadata": {
    "scrolled": true
   },
   "outputs": [
    {
     "name": "stdout",
     "output_type": "stream",
     "text": [
      "P:\n",
      " [[0. 0. 1.]\n",
      " [0. 1. 0.]\n",
      " [1. 0. 0.]]\n",
      "L:\n",
      " [[ 1.   0.   0. ]\n",
      " [ 0.   1.   0. ]\n",
      " [ 0.2 -1.   1. ]]\n",
      "U:\n",
      " [[ 5.  0. -5.]\n",
      " [ 0.  2. -8.]\n",
      " [ 0.  0. -6.]]\n"
     ]
    }
   ],
   "source": [
    "p, l, u = scipy.linalg.lu(A)\n",
    "print(\"P:\\n {}\".format(p))\n",
    "print(\"L:\\n {}\".format(l))\n",
    "print(\"U:\\n {}\".format(u))"
   ]
  },
  {
   "cell_type": "code",
   "execution_count": 7,
   "metadata": {},
   "outputs": [
    {
     "data": {
      "text/plain": [
       "True"
      ]
     },
     "execution_count": 7,
     "metadata": {},
     "output_type": "execute_result"
    }
   ],
   "source": [
    "# validation\n",
    "np.allclose(p @ l @ u, A)"
   ]
  },
  {
   "cell_type": "markdown",
   "metadata": {},
   "source": [
    "## 使用LU分解来解 $Ax=b$\n",
    "### $A=\\left[\\begin{matrix}1 & -2 & 1\\\\0 & 2 & -8\\\\5 & 0 & -5\\end{matrix}\\right]$,  $b=\\left[\\begin{matrix}0\\\\8\\\\10\\end{matrix}\\right]$"
   ]
  },
  {
   "cell_type": "code",
   "execution_count": 8,
   "metadata": {},
   "outputs": [],
   "source": [
    "def forward_substitution(L, b):\n",
    "    b = np.rot90(b.T)\n",
    "    n = len(L)\n",
    "    y = np.zeros(n)\n",
    "    y[0] = b[0]\n",
    "    for k in range(1, n):\n",
    "        y[k] = b[k] - L[k, 0:k] @ y[0:k]\n",
    "    return y"
   ]
  },
  {
   "cell_type": "code",
   "execution_count": 9,
   "metadata": {},
   "outputs": [],
   "source": [
    "def back_substitution(U, b):\n",
    "    n = len(U)\n",
    "    x = np.zeros(n)\n",
    "    G = np.c_[U, y]\n",
    "    x[n-1] = G[n-1, n] / G[n-1, n-1]\n",
    "    \n",
    "    for k in range(n-1, -1, -1):\n",
    "        x[k] = (G[k, n] - np.dot(G[k, k+1:n], x[k+1:n])) / G[k, k]\n",
    "    return x"
   ]
  },
  {
   "cell_type": "code",
   "execution_count": 13,
   "metadata": {},
   "outputs": [
    {
     "data": {
      "text/plain": [
       "array([ 1.,  0., -1.])"
      ]
     },
     "execution_count": 13,
     "metadata": {},
     "output_type": "execute_result"
    }
   ],
   "source": [
    "b = np.array([[0], [8], [10]])\n",
    "_, L, U = scipy.linalg.lu(A)\n",
    "y = forward_substitution(L, b)\n",
    "back_substitution(U, y)"
   ]
  },
  {
   "cell_type": "code",
   "execution_count": 14,
   "metadata": {},
   "outputs": [],
   "source": [
    "A = np.array([[2, -2, 3], [-2, 5, 4], [-3, 4, 5]])\n",
    "b = np.array([[7], [-12], [-12]])"
   ]
  },
  {
   "cell_type": "code",
   "execution_count": 15,
   "metadata": {},
   "outputs": [
    {
     "data": {
      "text/plain": [
       "array([ 1.74418605, -1.72093023,  0.02325581])"
      ]
     },
     "execution_count": 15,
     "metadata": {},
     "output_type": "execute_result"
    }
   ],
   "source": [
    "_, L, U = scipy.linalg.lu(A)\n",
    "y = forward_substitution(L, b)\n",
    "back_substitution(U, y)"
   ]
  },
  {
   "cell_type": "code",
   "execution_count": 16,
   "metadata": {},
   "outputs": [
    {
     "data": {
      "text/plain": [
       "array([[ 1.        ,  0.        ,  0.        ],\n",
       "       [ 0.66666667,  1.        ,  0.        ],\n",
       "       [-0.66666667,  0.28571429,  1.        ]])"
      ]
     },
     "execution_count": 16,
     "metadata": {},
     "output_type": "execute_result"
    }
   ],
   "source": [
    "L"
   ]
  },
  {
   "cell_type": "markdown",
   "metadata": {},
   "source": [
    "### 使用 `Numpy`"
   ]
  },
  {
   "cell_type": "code",
   "execution_count": 11,
   "metadata": {},
   "outputs": [
    {
     "data": {
      "text/plain": [
       "array([[ 1.],\n",
       "       [ 0.],\n",
       "       [-1.]])"
      ]
     },
     "execution_count": 11,
     "metadata": {},
     "output_type": "execute_result"
    }
   ],
   "source": [
    "x = np.linalg.solve(A, b)\n",
    "x"
   ]
  }
 ],
 "metadata": {
  "kernelspec": {
   "display_name": "Python 3",
   "language": "python",
   "name": "python3"
  },
  "language_info": {
   "codemirror_mode": {
    "name": "ipython",
    "version": 3
   },
   "file_extension": ".py",
   "mimetype": "text/x-python",
   "name": "python",
   "nbconvert_exporter": "python",
   "pygments_lexer": "ipython3",
   "version": "3.7.3"
  }
 },
 "nbformat": 4,
 "nbformat_minor": 2
}
