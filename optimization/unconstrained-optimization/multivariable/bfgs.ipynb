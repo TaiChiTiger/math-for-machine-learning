{
 "cells": [
  {
   "cell_type": "markdown",
   "metadata": {},
   "source": [
    "## BFGS"
   ]
  },
  {
   "cell_type": "code",
   "execution_count": 8,
   "metadata": {},
   "outputs": [],
   "source": [
    "from scipy import optimize\n",
    "import numpy as np"
   ]
  },
  {
   "cell_type": "code",
   "execution_count": 9,
   "metadata": {},
   "outputs": [],
   "source": [
    "def bgfs(f, fprime, x0, num_epochs=200, epsilon=1e-10):\n",
    "    n = len(x0)\n",
    "    x = np.zeros((num_epochs+1, n))\n",
    "    x[0] = np.array(x0)\n",
    "    H = np.identity(n)\n",
    "    for k in range(1, num_epochs+1):\n",
    "        if np.linalg.norm(fprime(x[k-1])) < epsilon:\n",
    "            print(\"the number of iteration: \", k)\n",
    "            break\n",
    "        if k == num_epochs:\n",
    "            print(\"The num_epochs was reached, please increase it!\")\n",
    "            return None, None\n",
    "        p = - H @ fprime(x[k-1])\n",
    "        alpha = optimize.line_search(f, fprime, x[k-1], p)[0]\n",
    "        s = alpha * p\n",
    "        x[k] = x[k-1] + s\n",
    "        y = fprime(x[k]) - fprime(x[k-1])\n",
    "        rho = 1.0 / (y @ s)\n",
    "        I = np.identity(n)        \n",
    "        s = s.reshape(-1, 1)\n",
    "        y = y.reshape(-1, 1)\n",
    "        H = (I - rho * s @ y.T) @ H @ (I - rho * y @ s.T) + rho * s @ s.T\n",
    "    \n",
    "    return x[k-1], x[:k-1]"
   ]
  },
  {
   "cell_type": "markdown",
   "metadata": {},
   "source": [
    "## 1. $f(x,y)=(x-4)^2+(y-1)^2+100$, 找到它的最小值"
   ]
  },
  {
   "cell_type": "code",
   "execution_count": 10,
   "metadata": {},
   "outputs": [],
   "source": [
    "from autograd import grad"
   ]
  },
  {
   "cell_type": "code",
   "execution_count": 11,
   "metadata": {},
   "outputs": [],
   "source": [
    "f = lambda X: (X[0] - 4)**2 + (X[1] - 1)**2 + 100"
   ]
  },
  {
   "cell_type": "code",
   "execution_count": 12,
   "metadata": {},
   "outputs": [
    {
     "name": "stdout",
     "output_type": "stream",
     "text": [
      "the number of iteration:  2\n"
     ]
    },
    {
     "data": {
      "text/plain": [
       "array([4., 1.])"
      ]
     },
     "execution_count": 12,
     "metadata": {},
     "output_type": "execute_result"
    }
   ],
   "source": [
    "fprime = grad(f)\n",
    "mini, iter_pts = bgfs(f, fprime, x0=[0., 0.])\n",
    "mini"
   ]
  },
  {
   "cell_type": "markdown",
   "metadata": {},
   "source": [
    "### 使用`Scipy`"
   ]
  },
  {
   "cell_type": "code",
   "execution_count": 59,
   "metadata": {},
   "outputs": [
    {
     "name": "stdout",
     "output_type": "stream",
     "text": [
      "Optimization terminated successfully.\n",
      "         Current function value: 100.000000\n",
      "         Iterations: 3\n",
      "         Function evaluations: 4\n",
      "         Gradient evaluations: 4\n"
     ]
    },
    {
     "data": {
      "text/plain": [
       "array([4., 1.])"
      ]
     },
     "execution_count": 59,
     "metadata": {},
     "output_type": "execute_result"
    }
   ],
   "source": [
    "optimize.fmin_bfgs(f, x0=[0., 0.], fprime=fprime)"
   ]
  },
  {
   "cell_type": "markdown",
   "metadata": {},
   "source": [
    "## 2. $f(x,y)=(1-x)^2+100(y-x^2)^2$"
   ]
  },
  {
   "cell_type": "code",
   "execution_count": 52,
   "metadata": {},
   "outputs": [],
   "source": [
    "import ipyvolume.pylab as plt3d\n",
    "import matplotlib.pyplot as plt"
   ]
  },
  {
   "cell_type": "code",
   "execution_count": 53,
   "metadata": {},
   "outputs": [],
   "source": [
    "g = lambda X: (1 - X[0])**2 + 100 * ((X[1] - X[0]**2))**2"
   ]
  },
  {
   "cell_type": "code",
   "execution_count": 54,
   "metadata": {},
   "outputs": [
    {
     "data": {
      "application/vnd.jupyter.widget-view+json": {
       "model_id": "be4b517e9e7c4997aecd4d75836a4392",
       "version_major": 2,
       "version_minor": 0
      },
      "text/plain": [
       "VBox(children=(Figure(camera=PerspectiveCamera(fov=46.0, position=(0.0, 0.0, 2.0), quaternion=(0.0, 0.0, 0.0, …"
      ]
     },
     "metadata": {},
     "output_type": "display_data"
    }
   ],
   "source": [
    "x1n = np.linspace(-10, 10, 100)\n",
    "x2n = np.linspace(-10, 10, 100)\n",
    "xx1n, xx2n = np.meshgrid(x1n, x2n)\n",
    "XX = np.c_[xx1n.ravel(), xx2n.ravel()]\n",
    "gn = np.array([g(xx) for xx in XX]).reshape(xx1n.shape)\n",
    "\n",
    "plt3d.figure(width=1000, height=500)\n",
    "plt3d.plot_surface(xx1n, gn, xx2n, color=\"green\")\n",
    "plt3d.xlabel(\"x\")\n",
    "plt3d.zlabel(\"y\")\n",
    "plt3d.ylabel(\"g\")\n",
    "plt3d.show()"
   ]
  },
  {
   "cell_type": "code",
   "execution_count": 55,
   "metadata": {},
   "outputs": [
    {
     "name": "stdout",
     "output_type": "stream",
     "text": [
      "the number of iteration:  39\n"
     ]
    },
    {
     "data": {
      "text/plain": [
       "array([1., 1.])"
      ]
     },
     "execution_count": 55,
     "metadata": {},
     "output_type": "execute_result"
    }
   ],
   "source": [
    "gprime = grad(g)\n",
    "mini, iter_pts = bgfs(g, gprime, x0=[-4., 8.])\n",
    "mini"
   ]
  },
  {
   "cell_type": "code",
   "execution_count": 57,
   "metadata": {},
   "outputs": [
    {
     "data": {
      "image/png": "[encoded data removed]",
      "text/plain": [
       "<Figure size 576x576 with 1 Axes>"
      ]
     },
     "metadata": {
      "needs_background": "light"
     },
     "output_type": "display_data"
    }
   ],
   "source": [
    "plt.figure(figsize=(8, 8))\n",
    "plt.contourf(xx1n, xx2n, gn)\n",
    "plt.scatter(mini[0], mini[1], marker='*', color='yellow', s=200, zorder=3)\n",
    "plt.scatter(iter_pts[:, 0], iter_pts[:, 1], c='r')\n",
    "plt.plot(iter_pts[:, 0], iter_pts[:, 1], c='r')\n",
    "plt.axis('square')\n",
    "plt.show()"
   ]
  },
  {
   "cell_type": "code",
   "execution_count": 50,
   "metadata": {},
   "outputs": [
    {
     "data": {
      "application/vnd.jupyter.widget-view+json": {
       "model_id": "954e1526b87646e7a4e8442e6a44959e",
       "version_major": 2,
       "version_minor": 0
      },
      "text/plain": [
       "VBox(children=(Figure(camera=PerspectiveCamera(fov=46.0, position=(0.0, 0.0, 2.0), quaternion=(0.0, 0.0, 0.0, …"
      ]
     },
     "metadata": {},
     "output_type": "display_data"
    }
   ],
   "source": [
    "iter_path = [g(p) for p in iter_pts]\n",
    "\n",
    "plt3d.figure(width=1000, height=500)\n",
    "plt3d.plot_surface(xx1n, gn, xx2n, color=\"green\")\n",
    "plt3d.scatter(np.array([mini[0]]), np.array([g(mini)]), np.array([mini[1]]), \n",
    "              color='yellow', size=3)\n",
    "plt3d.scatter(iter_pts[:, 0], np.array(iter_path), iter_pts[:, 1], \n",
    "              marker='sphere', size=3)\n",
    "plt3d.plot(iter_pts[:, 0], np.array(iter_path), iter_pts[:, 1])\n",
    "plt3d.xlabel(\"x\")\n",
    "plt3d.zlabel(\"y\")\n",
    "plt3d.ylabel(\"g\")\n",
    "plt3d.show()"
   ]
  },
  {
   "cell_type": "markdown",
   "metadata": {},
   "source": [
    "### 使用`Scipy`"
   ]
  },
  {
   "cell_type": "code",
   "execution_count": 58,
   "metadata": {},
   "outputs": [
    {
     "name": "stdout",
     "output_type": "stream",
     "text": [
      "Optimization terminated successfully.\n",
      "         Current function value: 0.000000\n",
      "         Iterations: 160\n",
      "         Function evaluations: 211\n",
      "         Gradient evaluations: 211\n"
     ]
    },
    {
     "data": {
      "text/plain": [
       "array([1.00000022, 1.00000047])"
      ]
     },
     "execution_count": 58,
     "metadata": {},
     "output_type": "execute_result"
    }
   ],
   "source": [
    "optimize.fmin_bfgs(g, x0=[0., 1000.], fprime=gprime)"
   ]
  },
  {
   "cell_type": "code",
   "execution_count": null,
   "metadata": {},
   "outputs": [],
   "source": []
  }
 ],
 "metadata": {
  "kernelspec": {
   "display_name": "Python 3",
   "language": "python",
   "name": "python3"
  },
  "language_info": {
   "codemirror_mode": {
    "name": "ipython",
    "version": 3
   },
   "file_extension": ".py",
   "mimetype": "text/x-python",
   "name": "python",
   "nbconvert_exporter": "python",
   "pygments_lexer": "ipython3",
   "version": "3.7.3"
  }
 },
 "nbformat": 4,
 "nbformat_minor": 2
}
