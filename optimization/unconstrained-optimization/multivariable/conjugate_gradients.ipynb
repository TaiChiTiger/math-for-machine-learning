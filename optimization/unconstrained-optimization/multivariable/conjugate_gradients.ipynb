{
 "cells": [
  {
   "cell_type": "markdown",
   "metadata": {},
   "source": [
    "## 共轭梯度"
   ]
  },
  {
   "cell_type": "code",
   "execution_count": 34,
   "metadata": {},
   "outputs": [],
   "source": [
    "import numpy as np"
   ]
  },
  {
   "cell_type": "code",
   "execution_count": 86,
   "metadata": {},
   "outputs": [],
   "source": [
    "def conjugate_gradient(A, b, x0, tol=1e-8, num_epochs=100):\n",
    "    x = [x0]\n",
    "    r0 = b - A @ (x[0].reshape(1, -1).T) # 2*1\n",
    "    r = r0\n",
    "    v = r\n",
    "    for k in range(num_epochs):\n",
    "        alpha = (v.T @ r) / (v.T @ A @ v)\n",
    "        x.append((x[k] + alpha * v.T).flatten())\n",
    "        r = r - alpha * A @ v\n",
    "        if np.linalg.norm(r)**2 < tol * np.linalg.norm(r0)**2:\n",
    "            print(\"The number of iteration: {}\".format(k + 1))\n",
    "            break\n",
    "            \n",
    "        v = r - (((A @ v).T @ r) / (v.T @ v)) * v\n",
    "    return x[k+1], x"
   ]
  },
  {
   "cell_type": "markdown",
   "metadata": {},
   "source": [
    "## $f(x, y) = \\left(x + 2 y - 7\\right)^{2} + \\left(2 x + y - 5\\right)^{2}$， 找到它的最小值"
   ]
  },
  {
   "cell_type": "code",
   "execution_count": 87,
   "metadata": {},
   "outputs": [],
   "source": [
    "import matplotlib.pyplot as plt"
   ]
  },
  {
   "cell_type": "code",
   "execution_count": 88,
   "metadata": {},
   "outputs": [],
   "source": [
    "f = lambda X: (X[0] + 2 * X[1] - 7)**2 + (2 * X[0] + X[1] - 5)**2"
   ]
  },
  {
   "cell_type": "code",
   "execution_count": 89,
   "metadata": {},
   "outputs": [],
   "source": [
    "A = np.array([[10, 8], [8, 10]])\n",
    "b = np.array([[34], [38]])"
   ]
  },
  {
   "cell_type": "code",
   "execution_count": 90,
   "metadata": {},
   "outputs": [
    {
     "name": "stdout",
     "output_type": "stream",
     "text": [
      "The number of iteration: 13\n"
     ]
    },
    {
     "data": {
      "text/plain": [
       "array([1.00160337, 2.9994089 ])"
      ]
     },
     "execution_count": 90,
     "metadata": {},
     "output_type": "execute_result"
    }
   ],
   "source": [
    "mini, iter_pts = conjugate_gradient(A, b, np.array([-8, -8]))\n",
    "mini"
   ]
  },
  {
   "cell_type": "code",
   "execution_count": 60,
   "metadata": {},
   "outputs": [
    {
     "data": {
      "image/png": "[encoded data removed]",
      "text/plain": [
       "<Figure size 576x576 with 1 Axes>"
      ]
     },
     "metadata": {
      "needs_background": "light"
     },
     "output_type": "display_data"
    }
   ],
   "source": [
    "xn = np.linspace(-10, 10, 100)\n",
    "yn = np.linspace(-10, 10, 100)\n",
    "xxn, yyn = np.meshgrid(xn, yn)\n",
    "Xn = np.c_[xxn.ravel(), yyn.ravel()]\n",
    "fn = np.array([f(xy) for xy in Xn]).reshape(xxn.shape)\n",
    "\n",
    "plt.figure(figsize=(8, 8))\n",
    "plt.contourf(xxn, yyn, fn)\n",
    "plt.plot(np.array(iter_pts)[:, 0], np.array(iter_pts)[:, 1], 'r')\n",
    "plt.scatter(np.array(iter_pts)[:, 0], np.array(iter_pts)[:, 1], c='r')\n",
    "plt.scatter(mini[0], mini[1], c=\"yellow\", marker=\"*\", s=100)\n",
    "plt.show()"
   ]
  },
  {
   "cell_type": "code",
   "execution_count": null,
   "metadata": {},
   "outputs": [],
   "source": []
  }
 ],
 "metadata": {
  "kernelspec": {
   "display_name": "Python 3",
   "language": "python",
   "name": "python3"
  },
  "language_info": {
   "codemirror_mode": {
    "name": "ipython",
    "version": 3
   },
   "file_extension": ".py",
   "mimetype": "text/x-python",
   "name": "python",
   "nbconvert_exporter": "python",
   "pygments_lexer": "ipython3",
   "version": "3.7.3"
  }
 },
 "nbformat": 4,
 "nbformat_minor": 2
}
