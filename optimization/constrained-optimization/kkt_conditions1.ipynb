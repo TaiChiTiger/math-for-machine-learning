{
 "cells": [
  {
   "cell_type": "markdown",
   "metadata": {},
   "source": [
    "##  最大化 $xy$ \n",
    "\n",
    "\n",
    "满足 $x + y^2 ≤ 2$ \n",
    "\n",
    "$x, y ≥ 0$"
   ]
  },
  {
   "cell_type": "code",
   "execution_count": 1,
   "metadata": {},
   "outputs": [],
   "source": [
    "import numpy as np\n",
    "import ipyvolume.pylab as plt3d"
   ]
  },
  {
   "cell_type": "code",
   "execution_count": 2,
   "metadata": {},
   "outputs": [],
   "source": [
    "f = lambda X: X[0] * X[1]\n",
    "h1 = lambda X: 2 - X[0] - X[1]**2\n",
    "h2 = lambda X: X[0]\n",
    "h3 = lambda X: X[1]"
   ]
  },
  {
   "cell_type": "code",
   "execution_count": 3,
   "metadata": {},
   "outputs": [
    {
     "data": {
      "application/vnd.jupyter.widget-view+json": {
       "model_id": "c4b85faaa38a45f8b2d0cce9aa71e373",
       "version_major": 2,
       "version_minor": 0
      },
      "text/plain": [
       "VBox(children=(Figure(camera=PerspectiveCamera(fov=46.0, position=(0.0, 0.0, 2.0), quaternion=(0.0, 0.0, 0.0, …"
      ]
     },
     "metadata": {},
     "output_type": "display_data"
    }
   ],
   "source": [
    "xn = np.linspace(-5, 5, 50)\n",
    "yn = np.linspace(-5, 5, 50)\n",
    "xxn, yyn = np.meshgrid(xn, yn)\n",
    "fn = f([xxn, yyn])\n",
    "h1n = h1([xxn, yyn])\n",
    "h2n = h2([xxn, yyn])\n",
    "h3n = h3([xxn, yyn])\n",
    "\n",
    "plt3d.figure(width=1000, height=600)\n",
    "plt3d.plot_surface(xxn, fn, yyn, color='gray')\n",
    "plt3d.plot_wireframe(xxn, h1n, yyn, color='green')\n",
    "plt3d.plot_wireframe(xxn, h2n, yyn, color='blue')\n",
    "plt3d.plot_wireframe(xxn, h3n, yyn, color='orange')\n",
    "plt3d.ylabel(\"z\")\n",
    "plt3d.zlabel(\"y\")\n",
    "plt3d.show()"
   ]
  },
  {
   "cell_type": "markdown",
   "metadata": {},
   "source": [
    "## KKT 条件"
   ]
  },
  {
   "cell_type": "code",
   "execution_count": 4,
   "metadata": {},
   "outputs": [],
   "source": [
    "import sympy\n",
    "sympy.init_printing()"
   ]
  },
  {
   "cell_type": "code",
   "execution_count": 5,
   "metadata": {},
   "outputs": [],
   "source": [
    "x, y = sympy.symbols(\"x, y\")\n",
    "f_sym = -x * y\n",
    "h1_sym = 2 - x - y**2\n",
    "h2_sym = x\n",
    "h3_sym = y"
   ]
  },
  {
   "cell_type": "markdown",
   "metadata": {},
   "source": [
    "### 1. 平稳性"
   ]
  },
  {
   "cell_type": "code",
   "execution_count": 6,
   "metadata": {},
   "outputs": [
    {
     "data": {
      "text/latex": [
       "$\\displaystyle \\left[\\begin{matrix}\\mu_{1} - \\mu_{2} - y\\\\2 \\mu_{1} y - \\mu_{3} - x\\end{matrix}\\right]$"
      ],
      "text/plain": [
       "⎡  μ₁ - μ₂ - y  ⎤\n",
       "⎢               ⎥\n",
       "⎣2⋅μ₁⋅y - μ₃ - x⎦"
      ]
     },
     "execution_count": 6,
     "metadata": {},
     "output_type": "execute_result"
    }
   ],
   "source": [
    "f_grad = [f_sym.diff(i) for i in (x, y)]\n",
    "f_grad = sympy.Matrix(f_grad)\n",
    "H = sympy.Matrix([h1_sym, h2_sym, h3_sym])\n",
    "H_grad = [H.diff(i) for i in (x, y)]\n",
    "H_grad = sympy.Matrix([H_grad[0], H_grad[1]]).reshape(2, 3)\n",
    "mu1, mu2, mu3 = sympy.symbols(\"mu1, mu2, mu3\")\n",
    "mu = sympy.Matrix([mu1, mu2, mu3])\n",
    "\n",
    "stat_cond = f_grad - H_grad * mu\n",
    "stat_cond"
   ]
  },
  {
   "cell_type": "markdown",
   "metadata": {},
   "source": [
    "### 2. 原始可行性"
   ]
  },
  {
   "cell_type": "code",
   "execution_count": 7,
   "metadata": {},
   "outputs": [
    {
     "data": {
      "text/latex": [
       "$\\displaystyle \\left[\\begin{matrix}x + y^{2} - 2 \\leq 0\\\\x \\geq 0\\\\y \\geq 0\\end{matrix}\\right]$"
      ],
      "text/plain": [
       "⎡     2        ⎤\n",
       "⎢x + y  - 2 ≤ 0⎥\n",
       "⎢              ⎥\n",
       "⎢    x ≥ 0     ⎥\n",
       "⎢              ⎥\n",
       "⎣    y ≥ 0     ⎦"
      ]
     },
     "execution_count": 7,
     "metadata": {},
     "output_type": "execute_result"
    }
   ],
   "source": [
    "prim_h1 = sympy.simplify(h1_sym >= 0)\n",
    "prim_h2 = sympy.simplify(x >= 0)\n",
    "prim_h3 = sympy.simplify(y >= 0)\n",
    "prim_cond = sympy.Matrix([prim_h1, prim_h2, prim_h3])\n",
    "prim_cond"
   ]
  },
  {
   "cell_type": "markdown",
   "metadata": {},
   "source": [
    "### 3. 互补松弛性"
   ]
  },
  {
   "cell_type": "code",
   "execution_count": 8,
   "metadata": {},
   "outputs": [
    {
     "data": {
      "text/latex": [
       "$\\displaystyle \\left[\\begin{matrix}\\mu_{1} \\left(- x - y^{2} + 2\\right)\\\\\\mu_{2} x\\\\\\mu_{3} y\\end{matrix}\\right]$"
      ],
      "text/plain": [
       "⎡   ⎛      2    ⎞⎤\n",
       "⎢μ₁⋅⎝-x - y  + 2⎠⎥\n",
       "⎢                ⎥\n",
       "⎢      μ₂⋅x      ⎥\n",
       "⎢                ⎥\n",
       "⎣      μ₃⋅y      ⎦"
      ]
     },
     "execution_count": 8,
     "metadata": {},
     "output_type": "execute_result"
    }
   ],
   "source": [
    "slack_cond = mu.multiply_elementwise(H)\n",
    "slack_cond"
   ]
  },
  {
   "cell_type": "markdown",
   "metadata": {},
   "source": [
    "### 4. 对偶可行性"
   ]
  },
  {
   "cell_type": "code",
   "execution_count": 9,
   "metadata": {},
   "outputs": [
    {
     "data": {
      "text/latex": [
       "$\\displaystyle \\left[\\begin{matrix}\\mu_{1} \\geq 0\\\\\\mu_{2} \\geq 0\\\\\\mu_{3} \\geq 0\\end{matrix}\\right]$"
      ],
      "text/plain": [
       "⎡μ₁ ≥ 0⎤\n",
       "⎢      ⎥\n",
       "⎢μ₂ ≥ 0⎥\n",
       "⎢      ⎥\n",
       "⎣μ₃ ≥ 0⎦"
      ]
     },
     "execution_count": 9,
     "metadata": {},
     "output_type": "execute_result"
    }
   ],
   "source": [
    "dual_mu = sympy.Matrix([mu1>=0, mu2>=0, mu3>=0])\n",
    "dual_mu"
   ]
  },
  {
   "cell_type": "markdown",
   "metadata": {},
   "source": [
    "### 组成最优性"
   ]
  },
  {
   "cell_type": "code",
   "execution_count": 10,
   "metadata": {},
   "outputs": [
    {
     "data": {
      "text/latex": [
       "$\\displaystyle \\left[\\begin{matrix}\\mu_{1} \\left(- x - y^{2} + 2\\right)\\\\\\mu_{2} x\\\\\\mu_{3} y\\\\\\mu_{1} - \\mu_{2} - y\\\\2 \\mu_{1} y - \\mu_{3} - x\\\\x + y^{2} - 2 \\leq 0\\\\x \\geq 0\\\\y \\geq 0\\\\\\mu_{1} \\geq 0\\\\\\mu_{2} \\geq 0\\\\\\mu_{3} \\geq 0\\end{matrix}\\right]$"
      ],
      "text/plain": [
       "⎡   ⎛      2    ⎞⎤\n",
       "⎢μ₁⋅⎝-x - y  + 2⎠⎥\n",
       "⎢                ⎥\n",
       "⎢      μ₂⋅x      ⎥\n",
       "⎢                ⎥\n",
       "⎢      μ₃⋅y      ⎥\n",
       "⎢                ⎥\n",
       "⎢  μ₁ - μ₂ - y   ⎥\n",
       "⎢                ⎥\n",
       "⎢2⋅μ₁⋅y - μ₃ - x ⎥\n",
       "⎢                ⎥\n",
       "⎢      2         ⎥\n",
       "⎢ x + y  - 2 ≤ 0 ⎥\n",
       "⎢                ⎥\n",
       "⎢     x ≥ 0      ⎥\n",
       "⎢                ⎥\n",
       "⎢     y ≥ 0      ⎥\n",
       "⎢                ⎥\n",
       "⎢     μ₁ ≥ 0     ⎥\n",
       "⎢                ⎥\n",
       "⎢     μ₂ ≥ 0     ⎥\n",
       "⎢                ⎥\n",
       "⎣     μ₃ ≥ 0     ⎦"
      ]
     },
     "execution_count": 10,
     "metadata": {},
     "output_type": "execute_result"
    }
   ],
   "source": [
    "optima_cond = sympy.Matrix([slack_cond, stat_cond, prim_cond, dual_mu])\n",
    "optima_cond"
   ]
  },
  {
   "cell_type": "markdown",
   "metadata": {},
   "source": [
    "### 求解 "
   ]
  },
  {
   "cell_type": "code",
   "execution_count": 11,
   "metadata": {},
   "outputs": [
    {
     "data": {
      "text/latex": [
       "$\\displaystyle \\left[\\begin{matrix}\\mu_{1} \\left(- x - y^{2} + 2\\right)\\\\\\mu_{2} x\\\\\\mu_{3} y\\\\\\mu_{1} - \\mu_{2} - y\\\\2 \\mu_{1} y - \\mu_{3} - x\\end{matrix}\\right]$"
      ],
      "text/plain": [
       "⎡   ⎛      2    ⎞⎤\n",
       "⎢μ₁⋅⎝-x - y  + 2⎠⎥\n",
       "⎢                ⎥\n",
       "⎢      μ₂⋅x      ⎥\n",
       "⎢                ⎥\n",
       "⎢      μ₃⋅y      ⎥\n",
       "⎢                ⎥\n",
       "⎢  μ₁ - μ₂ - y   ⎥\n",
       "⎢                ⎥\n",
       "⎣2⋅μ₁⋅y - μ₃ - x ⎦"
      ]
     },
     "execution_count": 11,
     "metadata": {},
     "output_type": "execute_result"
    }
   ],
   "source": [
    "optima_cond = sympy.Matrix([slack_cond, stat_cond])\n",
    "optima_cond"
   ]
  },
  {
   "cell_type": "code",
   "execution_count": 12,
   "metadata": {},
   "outputs": [
    {
     "data": {
      "image/png": "[encoded data removed]",
      "text/latex": [
       "$\\displaystyle \\left[ \\left\\{ \\mu_{1} : 0, \\  \\mu_{2} : 0, \\  \\mu_{3} : 0, \\  x : 0, \\  y : 0\\right\\}, \\  \\left\\{ \\mu_{1} : - \\frac{\\sqrt{6}}{3}, \\  \\mu_{2} : 0, \\  \\mu_{3} : 0, \\  x : \\frac{4}{3}, \\  y : - \\frac{\\sqrt{6}}{3}\\right\\}, \\  \\left\\{ \\mu_{1} : \\frac{\\sqrt{6}}{3}, \\  \\mu_{2} : 0, \\  \\mu_{3} : 0, \\  x : \\frac{4}{3}, \\  y : \\frac{\\sqrt{6}}{3}\\right\\}\\right]$"
      ],
      "text/plain": [
       "⎡                                   ⎧    -√6                            -√6 ⎫ \n",
       "⎢{μ₁: 0, μ₂: 0, μ₃: 0, x: 0, y: 0}, ⎨μ₁: ────, μ₂: 0, μ₃: 0, x: 4/3, y: ────⎬,\n",
       "⎣                                   ⎩     3                              3  ⎭ \n",
       "\n",
       " ⎧    √6                           √6⎫⎤\n",
       " ⎨μ₁: ──, μ₂: 0, μ₃: 0, x: 4/3, y: ──⎬⎥\n",
       " ⎩    3                            3 ⎭⎦"
      ]
     },
     "execution_count": 12,
     "metadata": {},
     "output_type": "execute_result"
    }
   ],
   "source": [
    "roots = sympy.solve(optima_cond)\n",
    "roots"
   ]
  },
  {
   "cell_type": "code",
   "execution_count": 13,
   "metadata": {},
   "outputs": [
    {
     "data": {
      "image/png": "[encoded data removed]",
      "text/latex": [
       "$\\displaystyle \\left\\{ \\mu_{1} : \\frac{\\sqrt{6}}{3}, \\  \\mu_{2} : 0, \\  \\mu_{3} : 0, \\  x : \\frac{4}{3}, \\  y : \\frac{\\sqrt{6}}{3}\\right\\}$"
      ],
      "text/plain": [
       "⎧    √6                           √6⎫\n",
       "⎨μ₁: ──, μ₂: 0, μ₃: 0, x: 4/3, y: ──⎬\n",
       "⎩    3                            3 ⎭"
      ]
     },
     "execution_count": 13,
     "metadata": {},
     "output_type": "execute_result"
    }
   ],
   "source": [
    "root = roots[2]\n",
    "root"
   ]
  },
  {
   "cell_type": "markdown",
   "metadata": {},
   "source": [
    "### 检查"
   ]
  },
  {
   "cell_type": "code",
   "execution_count": 14,
   "metadata": {},
   "outputs": [
    {
     "data": {
      "text/plain": [
       "False"
      ]
     },
     "execution_count": 14,
     "metadata": {},
     "output_type": "execute_result"
    }
   ],
   "source": [
    "# 检查Hessian矩阵是否正定\n",
    "f_hessian = sympy.Matrix([[f_sym.diff(x_, y_) for x_ in (x, y)] for y_ in (x, y)])\n",
    "f_hessian.is_positive_semidefinite"
   ]
  },
  {
   "cell_type": "code",
   "execution_count": 57,
   "metadata": {},
   "outputs": [
    {
     "name": "stdout",
     "output_type": "stream",
     "text": [
      "最小值点：x=1.3333, y=0.8165, f_max=1.0887\n"
     ]
    }
   ],
   "source": [
    "f_max = -f_sym.subs({'x': 4./3, 'y': np.sqrt(6) / 3.})\n",
    "print(\"最小值点：x={:.4f}, y={:.4f}, f_max={:.4f}\".format(4./3, np.sqrt(6) / 3., f_max))"
   ]
  },
  {
   "cell_type": "code",
   "execution_count": 17,
   "metadata": {},
   "outputs": [
    {
     "data": {
      "application/vnd.jupyter.widget-view+json": {
       "model_id": "689a859de2f142549a6a8561e7710a64",
       "version_major": 2,
       "version_minor": 0
      },
      "text/plain": [
       "VBox(children=(Figure(camera=PerspectiveCamera(fov=46.0, position=(0.0, 0.0, 2.0), quaternion=(0.0, 0.0, 0.0, …"
      ]
     },
     "metadata": {},
     "output_type": "display_data"
    }
   ],
   "source": [
    "min_pt = [np.array([4./3]), np.array([np.sqrt(6) / 3.]), np.array([f_max]).astype(\"float\")]\n",
    "\n",
    "plt3d.figure(width=1000, height=600)\n",
    "plt3d.plot_surface(xxn, fn, yyn, color='gray')\n",
    "plt3d.plot_wireframe(xxn, h1n, yyn, color='green')\n",
    "plt3d.plot_wireframe(xxn, h2n, yyn, color='blue')\n",
    "plt3d.plot_wireframe(xxn, h3n, yyn, color='orange')\n",
    "plt3d.scatter(min_pt[0], min_pt[2], min_pt[1], marker=\"diamond\", size=5)\n",
    "plt3d.ylabel(\"z\")\n",
    "plt3d.zlabel(\"y\")\n",
    "plt3d.show()"
   ]
  },
  {
   "cell_type": "markdown",
   "metadata": {},
   "source": [
    "## 使用`Scipy`"
   ]
  },
  {
   "cell_type": "code",
   "execution_count": 49,
   "metadata": {},
   "outputs": [],
   "source": [
    "from scipy.optimize import LinearConstraint, NonlinearConstraint\n",
    "from scipy import optimize"
   ]
  },
  {
   "cell_type": "code",
   "execution_count": 50,
   "metadata": {},
   "outputs": [],
   "source": [
    "linear_constraint = LinearConstraint(np.eye(2), [0, 0], [np.inf, np.inf])\n",
    "nonlinear_constraint  = NonlinearConstraint(h1, 0, np.inf)"
   ]
  },
  {
   "cell_type": "code",
   "execution_count": 53,
   "metadata": {},
   "outputs": [
    {
     "data": {
      "text/plain": [
       " barrier_parameter: 1.2800000000000007e-06\n",
       " barrier_tolerance: 1.2800000000000007e-06\n",
       "          cg_niter: 19\n",
       "      cg_stop_cond: 1\n",
       "            constr: [array([1.56767968e-06]), array([1.33333229, 0.81649626])]\n",
       "       constr_nfev: [36, 0]\n",
       "       constr_nhev: [0, 0]\n",
       "       constr_njev: [0, 0]\n",
       "    constr_penalty: 1.0\n",
       "  constr_violation: 0.0\n",
       "    execution_time: 0.28801631927490234\n",
       "               fun: -1.0886608278987828\n",
       "              grad: array([-0.81649626, -1.33333229])\n",
       "               jac: [array([[-1.        , -1.63299254]]), array([[1., 0.],\n",
       "       [0., 1.]])]\n",
       "   lagrangian_grad: array([-2.25599735e-09,  1.38151137e-09])\n",
       "           message: '`gtol` termination condition is satisfied.'\n",
       "            method: 'tr_interior_point'\n",
       "              nfev: 36\n",
       "              nhev: 0\n",
       "               nit: 19\n",
       "             niter: 19\n",
       "              njev: 0\n",
       "        optimality: 2.2559973472467745e-09\n",
       "            status: 1\n",
       "           success: True\n",
       "         tr_radius: 497375.62436217995\n",
       "                 v: [array([-0.81649721]), array([-9.58731753e-07, -1.56974632e-06])]\n",
       "                 x: array([1.33333229, 0.81649626])"
      ]
     },
     "execution_count": 53,
     "metadata": {},
     "output_type": "execute_result"
    }
   ],
   "source": [
    "f = lambda X: -X[0] * X[1]\n",
    "results = optimize.minimize(f, [1.3, 0.1], method='trust-constr', \n",
    "                            constraints=[nonlinear_constraint, linear_constraint])\n",
    "results"
   ]
  },
  {
   "cell_type": "code",
   "execution_count": 55,
   "metadata": {},
   "outputs": [
    {
     "data": {
      "text/plain": [
       "(array([1.33333229, 0.81649626]), 1.0886608278987828)"
      ]
     },
     "execution_count": 55,
     "metadata": {},
     "output_type": "execute_result"
    }
   ],
   "source": [
    "results.x, -results.fun"
   ]
  },
  {
   "cell_type": "code",
   "execution_count": null,
   "metadata": {},
   "outputs": [],
   "source": []
  }
 ],
 "metadata": {
  "kernelspec": {
   "display_name": "Python 3",
   "language": "python",
   "name": "python3"
  },
  "language_info": {
   "codemirror_mode": {
    "name": "ipython",
    "version": 3
   },
   "file_extension": ".py",
   "mimetype": "text/x-python",
   "name": "python",
   "nbconvert_exporter": "python",
   "pygments_lexer": "ipython3",
   "version": "3.7.3"
  }
 },
 "nbformat": 4,
 "nbformat_minor": 2
}
