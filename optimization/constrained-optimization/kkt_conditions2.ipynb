{
 "cells": [
  {
   "cell_type": "markdown",
   "metadata": {},
   "source": [
    "##  最小化 $2x^2 + 2xy + y^2-10x-10y$ \n",
    "满足 $x^2 + y^2 ≤ 5$ \n",
    "\n",
    "$3x+y≤ 6$"
   ]
  },
  {
   "cell_type": "code",
   "execution_count": 1,
   "metadata": {},
   "outputs": [],
   "source": [
    "import numpy as np\n",
    "import ipyvolume.pylab as plt3d"
   ]
  },
  {
   "cell_type": "code",
   "execution_count": 2,
   "metadata": {},
   "outputs": [],
   "source": [
    "f = lambda X: 2 * X[0]**2 + 2 * X[0] * X[1] + X[1]**2 - 10 * X[0] - 10 * X[1]\n",
    "h1 = lambda X: -X[0]**2 - X[1]**2 + 5\n",
    "h2 = lambda X: -3 * X[0] - X[1] + 6"
   ]
  },
  {
   "cell_type": "code",
   "execution_count": 3,
   "metadata": {},
   "outputs": [
    {
     "data": {
      "application/vnd.jupyter.widget-view+json": {
       "model_id": "38e47290e5934ab1acc6ec6ceedf6598",
       "version_major": 2,
       "version_minor": 0
      },
      "text/plain": [
       "VBox(children=(Figure(camera=PerspectiveCamera(fov=46.0, position=(0.0, 0.0, 2.0), quaternion=(0.0, 0.0, 0.0, …"
      ]
     },
     "metadata": {},
     "output_type": "display_data"
    }
   ],
   "source": [
    "xn = np.linspace(-5, 5, 50)\n",
    "yn = np.linspace(-5, 5, 50)\n",
    "xxn, yyn = np.meshgrid(xn, yn)\n",
    "fn = f([xxn, yyn])\n",
    "h1n = h1([xxn, yyn])\n",
    "h2n = h2([xxn, yyn])\n",
    "\n",
    "plt3d.figure(width=1000, height=600)\n",
    "plt3d.plot_surface(xxn, fn, yyn, color='blue')\n",
    "plt3d.plot_wireframe(xxn, h1n, yyn, color='yellow')\n",
    "plt3d.plot_wireframe(xxn, h2n, yyn, color='green')\n",
    "plt3d.ylabel(\"z\")\n",
    "plt3d.zlabel(\"y\")\n",
    "plt3d.show()"
   ]
  },
  {
   "cell_type": "markdown",
   "metadata": {},
   "source": [
    "## KKT 条件"
   ]
  },
  {
   "cell_type": "code",
   "execution_count": 4,
   "metadata": {},
   "outputs": [],
   "source": [
    "import sympy\n",
    "sympy.init_printing()"
   ]
  },
  {
   "cell_type": "code",
   "execution_count": 5,
   "metadata": {},
   "outputs": [],
   "source": [
    "x, y = sympy.symbols(\"x, y\", real=True)\n",
    "f_sym = 2 * x**2 + 2 * x * y + y**2 - 10 * x - 10 * y\n",
    "h1_sym = -x**2 - y**2 + 5\n",
    "h2_sym = -3 * x - y + 6"
   ]
  },
  {
   "cell_type": "markdown",
   "metadata": {},
   "source": [
    "### 1. 平稳性"
   ]
  },
  {
   "cell_type": "code",
   "execution_count": 10,
   "metadata": {},
   "outputs": [
    {
     "data": {
      "text/latex": [
       "$\\displaystyle \\left[\\begin{matrix}2 \\mu_{1} x + 3 \\mu_{2} + 4 x + 2 y - 10\\\\2 \\mu_{1} y + \\mu_{2} + 2 x + 2 y - 10\\end{matrix}\\right]$"
      ],
      "text/plain": [
       "⎡2⋅μ₁⋅x + 3⋅μ₂ + 4⋅x + 2⋅y - 10⎤\n",
       "⎢                              ⎥\n",
       "⎣ 2⋅μ₁⋅y + μ₂ + 2⋅x + 2⋅y - 10 ⎦"
      ]
     },
     "execution_count": 10,
     "metadata": {},
     "output_type": "execute_result"
    }
   ],
   "source": [
    "f_grad = [f_sym.diff(i) for i in (x, y)]\n",
    "f_grad = sympy.Matrix(f_grad)\n",
    "\n",
    "mu1, mu2 = sympy.symbols(\"mu1, mu2\", real=True)\n",
    "mu = sympy.Matrix([mu1, mu2])\n",
    "H = sympy.Matrix([h1_sym, h2_sym])\n",
    "H_grad = [H.diff(i) for i in (x, y)]\n",
    "H_grad = sympy.Matrix(H_grad).reshape(2, 2)\n",
    "\n",
    "stat_cond = f_grad - H_grad * mu\n",
    "stat_cond"
   ]
  },
  {
   "cell_type": "markdown",
   "metadata": {},
   "source": [
    "### 2. 原始可行性"
   ]
  },
  {
   "cell_type": "code",
   "execution_count": 12,
   "metadata": {},
   "outputs": [
    {
     "data": {
      "text/latex": [
       "$\\displaystyle \\left[\\begin{matrix}x^{2} + y^{2} - 5 \\leq 0\\\\3 x + y \\leq 6\\end{matrix}\\right]$"
      ],
      "text/plain": [
       "⎡ 2    2        ⎤\n",
       "⎢x  + y  - 5 ≤ 0⎥\n",
       "⎢               ⎥\n",
       "⎣  3⋅x + y ≤ 6  ⎦"
      ]
     },
     "execution_count": 12,
     "metadata": {},
     "output_type": "execute_result"
    }
   ],
   "source": [
    "prim_h1 = sympy.simplify(h1_sym >= 0)\n",
    "prim_h2 = sympy.simplify(h2_sym >= 0)\n",
    "prim_cond = sympy.Matrix([prim_h1, prim_h2])\n",
    "prim_cond"
   ]
  },
  {
   "cell_type": "markdown",
   "metadata": {},
   "source": [
    "### 3. 互补松弛性"
   ]
  },
  {
   "cell_type": "code",
   "execution_count": 13,
   "metadata": {},
   "outputs": [
    {
     "data": {
      "text/latex": [
       "$\\displaystyle \\left[\\begin{matrix}\\mu_{1} \\left(- x^{2} - y^{2} + 5\\right)\\\\\\mu_{2} \\left(- 3 x - y + 6\\right)\\end{matrix}\\right]$"
      ],
      "text/plain": [
       "⎡   ⎛   2    2    ⎞⎤\n",
       "⎢μ₁⋅⎝- x  - y  + 5⎠⎥\n",
       "⎢                  ⎥\n",
       "⎣μ₂⋅(-3⋅x - y + 6) ⎦"
      ]
     },
     "execution_count": 13,
     "metadata": {},
     "output_type": "execute_result"
    }
   ],
   "source": [
    "slack_cond = sympy.Matrix([mu1 * h1_sym, mu2 * h2_sym])\n",
    "slack_cond"
   ]
  },
  {
   "cell_type": "markdown",
   "metadata": {},
   "source": [
    "### 4. 对偶可行性"
   ]
  },
  {
   "cell_type": "code",
   "execution_count": 15,
   "metadata": {},
   "outputs": [
    {
     "data": {
      "text/latex": [
       "$\\displaystyle \\left[\\begin{matrix}\\mu_{1} \\geq 0\\\\\\mu_{2} \\geq 0\\end{matrix}\\right]$"
      ],
      "text/plain": [
       "⎡μ₁ ≥ 0⎤\n",
       "⎢      ⎥\n",
       "⎣μ₂ ≥ 0⎦"
      ]
     },
     "execution_count": 15,
     "metadata": {},
     "output_type": "execute_result"
    }
   ],
   "source": [
    "dual_mu = sympy.Matrix([mu1>=0, mu2>=0])\n",
    "dual_mu"
   ]
  },
  {
   "cell_type": "markdown",
   "metadata": {},
   "source": [
    "### 组成最优性"
   ]
  },
  {
   "cell_type": "code",
   "execution_count": 16,
   "metadata": {},
   "outputs": [
    {
     "data": {
      "text/latex": [
       "$\\displaystyle \\left[\\begin{matrix}2 \\mu_{1} x + 3 \\mu_{2} + 4 x + 2 y - 10\\\\2 \\mu_{1} y + \\mu_{2} + 2 x + 2 y - 10\\\\\\mu_{1} \\left(- x^{2} - y^{2} + 5\\right)\\\\\\mu_{2} \\left(- 3 x - y + 6\\right)\\\\x^{2} + y^{2} - 5 \\leq 0\\\\3 x + y \\leq 6\\\\\\mu_{1} \\geq 0\\\\\\mu_{2} \\geq 0\\end{matrix}\\right]$"
      ],
      "text/plain": [
       "⎡2⋅μ₁⋅x + 3⋅μ₂ + 4⋅x + 2⋅y - 10⎤\n",
       "⎢                              ⎥\n",
       "⎢ 2⋅μ₁⋅y + μ₂ + 2⋅x + 2⋅y - 10 ⎥\n",
       "⎢                              ⎥\n",
       "⎢         ⎛   2    2    ⎞      ⎥\n",
       "⎢      μ₁⋅⎝- x  - y  + 5⎠      ⎥\n",
       "⎢                              ⎥\n",
       "⎢      μ₂⋅(-3⋅x - y + 6)       ⎥\n",
       "⎢                              ⎥\n",
       "⎢        2    2                ⎥\n",
       "⎢       x  + y  - 5 ≤ 0        ⎥\n",
       "⎢                              ⎥\n",
       "⎢         3⋅x + y ≤ 6          ⎥\n",
       "⎢                              ⎥\n",
       "⎢            μ₁ ≥ 0            ⎥\n",
       "⎢                              ⎥\n",
       "⎣            μ₂ ≥ 0            ⎦"
      ]
     },
     "execution_count": 16,
     "metadata": {},
     "output_type": "execute_result"
    }
   ],
   "source": [
    "optimal_cond = sympy.Matrix([stat_cond, slack_cond, prim_cond, dual_mu])\n",
    "optimal_cond"
   ]
  },
  {
   "cell_type": "code",
   "execution_count": 17,
   "metadata": {},
   "outputs": [
    {
     "data": {
      "text/latex": [
       "$\\displaystyle \\left[\\begin{matrix}2 \\mu_{1} x + 3 \\mu_{2} + 4 x + 2 y - 10\\\\2 \\mu_{1} y + \\mu_{2} + 2 x + 2 y - 10\\\\\\mu_{1} \\left(- x^{2} - y^{2} + 5\\right)\\\\\\mu_{2} \\left(- 3 x - y + 6\\right)\\end{matrix}\\right]$"
      ],
      "text/plain": [
       "⎡2⋅μ₁⋅x + 3⋅μ₂ + 4⋅x + 2⋅y - 10⎤\n",
       "⎢                              ⎥\n",
       "⎢ 2⋅μ₁⋅y + μ₂ + 2⋅x + 2⋅y - 10 ⎥\n",
       "⎢                              ⎥\n",
       "⎢         ⎛   2    2    ⎞      ⎥\n",
       "⎢      μ₁⋅⎝- x  - y  + 5⎠      ⎥\n",
       "⎢                              ⎥\n",
       "⎣      μ₂⋅(-3⋅x - y + 6)       ⎦"
      ]
     },
     "execution_count": 17,
     "metadata": {},
     "output_type": "execute_result"
    }
   ],
   "source": [
    "optimal_equ = sympy.Matrix([stat_cond, slack_cond])\n",
    "optimal_equ"
   ]
  },
  {
   "cell_type": "code",
   "execution_count": 25,
   "metadata": {},
   "outputs": [
    {
     "data": {
      "image/png": "[encoded data removed]",
      "text/latex": [
       "$\\displaystyle \\left[ \\left[ 0, \\  5.0, \\  0\\right], \\  \\left[ 1.0, \\  2.0, \\  1.0\\right], \\  \\left[ -1.72457672763185, \\  -1.42331834475307, \\  -5.72457672763185\\right], \\  \\left[ 3.36228836381592 - 0.540430833869287 i, \\  0.711659172376536 + 2.55330694059351 i, \\  -0.637711636184076 - 0.540430833869287 i\\right], \\  \\left[ 3.36228836381592 + 0.540430833869287 i, \\  0.711659172376536 - 2.55330694059351 i, \\  -0.637711636184076 + 0.540430833869287 i\\right]\\right]$"
      ],
      "text/plain": [
       "[[0, 5.0, 0], [1.0, 2.0, 1.0], [-1.72457672763185, -1.42331834475307, -5.72457\n",
       "672763185], [3.36228836381592 - 0.540430833869287⋅ⅈ, 0.711659172376536 + 2.553\n",
       "30694059351⋅ⅈ, -0.637711636184076 - 0.540430833869287⋅ⅈ], [3.36228836381592 + \n",
       "0.540430833869287⋅ⅈ, 0.711659172376536 - 2.55330694059351⋅ⅈ, -0.63771163618407\n",
       "6 + 0.540430833869287⋅ⅈ]]"
      ]
     },
     "execution_count": 25,
     "metadata": {},
     "output_type": "execute_result"
    }
   ],
   "source": [
    "roots = sympy.solve(optimal_equ.subs(mu2, 0), (x, y, mu1), real=True)\n",
    "roots_float = []\n",
    "for root in roots:\n",
    "    t = []\n",
    "    for v in root:\n",
    "        t.append(v.evalf())\n",
    "    roots_float.append(t)\n",
    "    \n",
    "roots_float"
   ]
  },
  {
   "cell_type": "code",
   "execution_count": 32,
   "metadata": {},
   "outputs": [
    {
     "data": {
      "image/png": "[encoded data removed]",
      "text/latex": [
       "$\\displaystyle \\left[ \\left[ 0, \\  5.0, \\  0\\right], \\  \\left[ 1.0, \\  2.0, \\  1.0\\right], \\  \\left[ -1.72457672763185, \\  -1.42331834475307, \\  -5.72457672763185\\right]\\right]$"
      ],
      "text/plain": [
       "[[0, 5.0, 0], [1.0, 2.0, 1.0], [-1.72457672763185, -1.42331834475307, -5.72457\n",
       "672763185]]"
      ]
     },
     "execution_count": 32,
     "metadata": {},
     "output_type": "execute_result"
    }
   ],
   "source": [
    "# 获取实根\n",
    "roots_real = roots_float.copy()\n",
    "for i in range(len(roots_float)):\n",
    "    if \"I\" in str(roots_float[i]):\n",
    "        roots_real.remove(roots_float[i])\n",
    "        \n",
    "roots_real"
   ]
  },
  {
   "cell_type": "markdown",
   "metadata": {},
   "source": [
    "### 检查"
   ]
  },
  {
   "cell_type": "code",
   "execution_count": 34,
   "metadata": {},
   "outputs": [
    {
     "data": {
      "text/plain": [
       "True"
      ]
     },
     "execution_count": 34,
     "metadata": {},
     "output_type": "execute_result"
    }
   ],
   "source": [
    "# 检查Hessian矩阵是否正定\n",
    "f_hessian = sympy.Matrix([[f_sym.diff(x_, y_) for x_ in (x, y)] for y_ in (x, y)])\n",
    "f_hessian.is_positive_definite"
   ]
  },
  {
   "cell_type": "code",
   "execution_count": 35,
   "metadata": {},
   "outputs": [
    {
     "data": {
      "text/latex": [
       "$\\displaystyle \\text{False}$"
      ],
      "text/plain": [
       "False"
      ]
     },
     "execution_count": 35,
     "metadata": {},
     "output_type": "execute_result"
    }
   ],
   "source": [
    "prim_h1.subs({x: real_roots[0][0], y: real_roots[0][1]})"
   ]
  },
  {
   "cell_type": "code",
   "execution_count": 36,
   "metadata": {},
   "outputs": [
    {
     "data": {
      "text/latex": [
       "$\\displaystyle \\left[\\begin{matrix}\\text{False}\\\\\\text{True}\\end{matrix}\\right]$"
      ],
      "text/plain": [
       "⎡False⎤\n",
       "⎢     ⎥\n",
       "⎣True ⎦"
      ]
     },
     "execution_count": 36,
     "metadata": {},
     "output_type": "execute_result"
    }
   ],
   "source": [
    "dual_mu.subs({mu1: real_roots[2][2], mu2: 0})"
   ]
  },
  {
   "cell_type": "code",
   "execution_count": 55,
   "metadata": {},
   "outputs": [
    {
     "name": "stdout",
     "output_type": "stream",
     "text": [
      "最小值点: x=1.0000, y=2.0000, f_min=-20.0000\n"
     ]
    }
   ],
   "source": [
    "final_root = real_roots[1]\n",
    "f_min = f_sym.subs({x: 1, y: 2}).evalf()\n",
    "print(\"最小值点: x={:.4f}, y={:.4f}, f_min={:.4f}\".format(final_root[0], \n",
    "                                                      final_root[1],\n",
    "                                                      f_min))"
   ]
  },
  {
   "cell_type": "code",
   "execution_count": 40,
   "metadata": {},
   "outputs": [
    {
     "data": {
      "application/vnd.jupyter.widget-view+json": {
       "model_id": "46cb7f212a7a4b75a698ba586e139fee",
       "version_major": 2,
       "version_minor": 0
      },
      "text/plain": [
       "VBox(children=(Figure(camera=PerspectiveCamera(fov=46.0, position=(0.0, 0.0, 2.0), quaternion=(0.0, 0.0, 0.0, …"
      ]
     },
     "metadata": {},
     "output_type": "display_data"
    }
   ],
   "source": [
    "final_root = np.array(final_root).astype(\"float\")\n",
    "\n",
    "plt3d.figure(width=1000, height=600)\n",
    "plt3d.plot_surface(xxn, fn, yyn, color='blue')\n",
    "plt3d.plot_wireframe(xxn, h1n, yyn, color='yellow')\n",
    "plt3d.plot_wireframe(xxn, h2n, yyn, color='green')\n",
    "plt3d.scatter(np.array([final_root[0]]), np.array([float(f_min)]), \n",
    "              np.array([final_root[1]]), marker=\"diamond\", size=5, color=\"red\")\n",
    "plt3d.ylabel(\"z\")\n",
    "plt3d.zlabel(\"y\")\n",
    "plt3d.show()"
   ]
  },
  {
   "cell_type": "markdown",
   "metadata": {},
   "source": [
    "## 使用`Scipy`"
   ]
  },
  {
   "cell_type": "code",
   "execution_count": 42,
   "metadata": {},
   "outputs": [],
   "source": [
    "from scipy import optimize\n",
    "from scipy.optimize import LinearConstraint, NonlinearConstraint"
   ]
  },
  {
   "cell_type": "code",
   "execution_count": 57,
   "metadata": {},
   "outputs": [
    {
     "data": {
      "text/plain": [
       "     fun: -20.000000001362327\n",
       "     jac: array([-2., -4.])\n",
       " message: 'Optimization terminated successfully.'\n",
       "    nfev: 37\n",
       "     nit: 9\n",
       "    njev: 9\n",
       "  status: 0\n",
       " success: True\n",
       "       x: array([1.00000001, 2.        ])"
      ]
     },
     "execution_count": 57,
     "metadata": {},
     "output_type": "execute_result"
    }
   ],
   "source": [
    "nonlinear_constraint  = NonlinearConstraint(h1, 0, np.inf)\n",
    "linear_constraint  = LinearConstraint([[3, 0], [0, 1]], 0, 6)\n",
    "results = optimize.minimize(f, [0.1, 0.1],\n",
    "                           constraints=[nonlinear_constraint, linear_constraint])\n",
    "results"
   ]
  },
  {
   "cell_type": "code",
   "execution_count": 58,
   "metadata": {},
   "outputs": [
    {
     "data": {
      "text/plain": [
       "(array([1.00000001, 2.        ]), -20.000000001362327)"
      ]
     },
     "execution_count": 58,
     "metadata": {},
     "output_type": "execute_result"
    }
   ],
   "source": [
    "results.x, results.fun"
   ]
  },
  {
   "cell_type": "code",
   "execution_count": null,
   "metadata": {},
   "outputs": [],
   "source": []
  }
 ],
 "metadata": {
  "kernelspec": {
   "display_name": "Python 3",
   "language": "python",
   "name": "python3"
  },
  "language_info": {
   "codemirror_mode": {
    "name": "ipython",
    "version": 3
   },
   "file_extension": ".py",
   "mimetype": "text/x-python",
   "name": "python",
   "nbconvert_exporter": "python",
   "pygments_lexer": "ipython3",
   "version": "3.7.3"
  }
 },
 "nbformat": 4,
 "nbformat_minor": 2
}
